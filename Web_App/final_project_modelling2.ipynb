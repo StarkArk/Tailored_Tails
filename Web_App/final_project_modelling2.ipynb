{
 "cells": [
  {
   "cell_type": "code",
   "execution_count": 1,
   "metadata": {
    "id": "qxCd5xfaMog2"
   },
   "outputs": [],
   "source": [
    "# Import the required modules\n",
    "import pandas as pd\n",
    "import numpy as np\n",
    "from pathlib import Path\n",
    "from sklearn.model_selection import train_test_split\n",
    "from sklearn.linear_model import LogisticRegression\n",
    "from sklearn.metrics import classification_report\n",
    "from sklearn.multioutput import MultiOutputClassifier\n",
    "from sklearn.metrics import confusion_matrix\n",
    "from sklearn.preprocessing import LabelEncoder"
   ]
  },
  {
   "cell_type": "code",
   "execution_count": 2,
   "metadata": {
    "colab": {
     "base_uri": "https://localhost:8080/",
     "height": 745
    },
    "id": "pOTKbjdgPLfr",
    "outputId": "c098bfb6-0cf2-4368-8184-8a49da793b9d"
   },
   "outputs": [
    {
     "data": {
      "text/html": [
       "<div>\n",
       "<style scoped>\n",
       "    .dataframe tbody tr th:only-of-type {\n",
       "        vertical-align: middle;\n",
       "    }\n",
       "\n",
       "    .dataframe tbody tr th {\n",
       "        vertical-align: top;\n",
       "    }\n",
       "\n",
       "    .dataframe thead th {\n",
       "        text-align: right;\n",
       "    }\n",
       "</style>\n",
       "<table border=\"1\" class=\"dataframe\">\n",
       "  <thead>\n",
       "    <tr style=\"text-align: right;\">\n",
       "      <th></th>\n",
       "      <th>Unnamed: 0</th>\n",
       "      <th>Borough</th>\n",
       "      <th>dog_friendly</th>\n",
       "      <th>income_cat</th>\n",
       "      <th>grooming_frequency</th>\n",
       "      <th>shedding</th>\n",
       "      <th>energy_level</th>\n",
       "      <th>trainability</th>\n",
       "      <th>demeanor</th>\n",
       "      <th>size</th>\n",
       "      <th>life_expectancy</th>\n",
       "      <th>lifetime_cost</th>\n",
       "      <th>Breed</th>\n",
       "    </tr>\n",
       "  </thead>\n",
       "  <tbody>\n",
       "    <tr>\n",
       "      <th>0</th>\n",
       "      <td>0</td>\n",
       "      <td>Bronx</td>\n",
       "      <td>Yes</td>\n",
       "      <td>middle</td>\n",
       "      <td>0.4</td>\n",
       "      <td>0.4</td>\n",
       "      <td>0.8</td>\n",
       "      <td>0.8</td>\n",
       "      <td>1.0</td>\n",
       "      <td>Small 9-35lb</td>\n",
       "      <td>0.6</td>\n",
       "      <td>Low</td>\n",
       "      <td>Boxer</td>\n",
       "    </tr>\n",
       "    <tr>\n",
       "      <th>1</th>\n",
       "      <td>1</td>\n",
       "      <td>Manhattan</td>\n",
       "      <td>Yes</td>\n",
       "      <td>high</td>\n",
       "      <td>0.8</td>\n",
       "      <td>0.2</td>\n",
       "      <td>0.6</td>\n",
       "      <td>0.6</td>\n",
       "      <td>1.0</td>\n",
       "      <td>Toy &gt;9lb</td>\n",
       "      <td>0.8</td>\n",
       "      <td>Medium</td>\n",
       "      <td>Maltese</td>\n",
       "    </tr>\n",
       "    <tr>\n",
       "      <th>2</th>\n",
       "      <td>2</td>\n",
       "      <td>Manhattan</td>\n",
       "      <td>Yes</td>\n",
       "      <td>high</td>\n",
       "      <td>1.0</td>\n",
       "      <td>0.2</td>\n",
       "      <td>0.6</td>\n",
       "      <td>0.2</td>\n",
       "      <td>0.8</td>\n",
       "      <td>Toy &gt;9lb</td>\n",
       "      <td>0.8</td>\n",
       "      <td>Medium</td>\n",
       "      <td>Yorkshire Terrier</td>\n",
       "    </tr>\n",
       "    <tr>\n",
       "      <th>3</th>\n",
       "      <td>3</td>\n",
       "      <td>Brooklyn</td>\n",
       "      <td>Yes</td>\n",
       "      <td>low</td>\n",
       "      <td>0.4</td>\n",
       "      <td>0.8</td>\n",
       "      <td>0.6</td>\n",
       "      <td>1.0</td>\n",
       "      <td>0.6</td>\n",
       "      <td>Small 9-35lb</td>\n",
       "      <td>0.4</td>\n",
       "      <td>Low</td>\n",
       "      <td>German Shepherd Dog</td>\n",
       "    </tr>\n",
       "    <tr>\n",
       "      <th>4</th>\n",
       "      <td>4</td>\n",
       "      <td>Brooklyn</td>\n",
       "      <td>Yes</td>\n",
       "      <td>high</td>\n",
       "      <td>0.4</td>\n",
       "      <td>0.4</td>\n",
       "      <td>0.4</td>\n",
       "      <td>1.0</td>\n",
       "      <td>0.8</td>\n",
       "      <td>Toy &gt;9lb</td>\n",
       "      <td>0.8</td>\n",
       "      <td>Medium</td>\n",
       "      <td>Cavalier King Charles Spaniel</td>\n",
       "    </tr>\n",
       "  </tbody>\n",
       "</table>\n",
       "</div>"
      ],
      "text/plain": [
       "   Unnamed: 0    Borough dog_friendly income_cat  grooming_frequency  \\\n",
       "0           0      Bronx          Yes     middle                 0.4   \n",
       "1           1  Manhattan          Yes       high                 0.8   \n",
       "2           2  Manhattan          Yes       high                 1.0   \n",
       "3           3   Brooklyn          Yes        low                 0.4   \n",
       "4           4   Brooklyn          Yes       high                 0.4   \n",
       "\n",
       "   shedding  energy_level  trainability  demeanor          size  \\\n",
       "0       0.4           0.8           0.8       1.0  Small 9-35lb   \n",
       "1       0.2           0.6           0.6       1.0      Toy >9lb   \n",
       "2       0.2           0.6           0.2       0.8      Toy >9lb   \n",
       "3       0.8           0.6           1.0       0.6  Small 9-35lb   \n",
       "4       0.4           0.4           1.0       0.8      Toy >9lb   \n",
       "\n",
       "   life_expectancy lifetime_cost                          Breed  \n",
       "0              0.6           Low                          Boxer  \n",
       "1              0.8        Medium                        Maltese  \n",
       "2              0.8        Medium              Yorkshire Terrier  \n",
       "3              0.4           Low            German Shepherd Dog  \n",
       "4              0.8        Medium  Cavalier King Charles Spaniel  "
      ]
     },
     "metadata": {},
     "output_type": "display_data"
    },
    {
     "data": {
      "text/html": [
       "<div>\n",
       "<style scoped>\n",
       "    .dataframe tbody tr th:only-of-type {\n",
       "        vertical-align: middle;\n",
       "    }\n",
       "\n",
       "    .dataframe tbody tr th {\n",
       "        vertical-align: top;\n",
       "    }\n",
       "\n",
       "    .dataframe thead th {\n",
       "        text-align: right;\n",
       "    }\n",
       "</style>\n",
       "<table border=\"1\" class=\"dataframe\">\n",
       "  <thead>\n",
       "    <tr style=\"text-align: right;\">\n",
       "      <th></th>\n",
       "      <th>Unnamed: 0</th>\n",
       "      <th>Borough</th>\n",
       "      <th>dog_friendly</th>\n",
       "      <th>income_cat</th>\n",
       "      <th>grooming_frequency</th>\n",
       "      <th>shedding</th>\n",
       "      <th>energy_level</th>\n",
       "      <th>trainability</th>\n",
       "      <th>demeanor</th>\n",
       "      <th>size</th>\n",
       "      <th>life_expectancy</th>\n",
       "      <th>lifetime_cost</th>\n",
       "      <th>Breed</th>\n",
       "    </tr>\n",
       "  </thead>\n",
       "  <tbody>\n",
       "    <tr>\n",
       "      <th>275750</th>\n",
       "      <td>275750</td>\n",
       "      <td>Queens</td>\n",
       "      <td>Yes</td>\n",
       "      <td>middle</td>\n",
       "      <td>1.0</td>\n",
       "      <td>0.2</td>\n",
       "      <td>0.6</td>\n",
       "      <td>0.2</td>\n",
       "      <td>0.8</td>\n",
       "      <td>Toy &gt;9lb</td>\n",
       "      <td>0.8</td>\n",
       "      <td>Medium</td>\n",
       "      <td>Yorkshire Terrier</td>\n",
       "    </tr>\n",
       "    <tr>\n",
       "      <th>275751</th>\n",
       "      <td>275751</td>\n",
       "      <td>Manhattan</td>\n",
       "      <td>Yes</td>\n",
       "      <td>high</td>\n",
       "      <td>0.4</td>\n",
       "      <td>0.4</td>\n",
       "      <td>0.4</td>\n",
       "      <td>1.0</td>\n",
       "      <td>0.8</td>\n",
       "      <td>Toy &gt;9lb</td>\n",
       "      <td>0.8</td>\n",
       "      <td>Medium</td>\n",
       "      <td>Cavalier King Charles Spaniel</td>\n",
       "    </tr>\n",
       "    <tr>\n",
       "      <th>275752</th>\n",
       "      <td>275752</td>\n",
       "      <td>Brooklyn</td>\n",
       "      <td>No</td>\n",
       "      <td>middle</td>\n",
       "      <td>0.2</td>\n",
       "      <td>0.4</td>\n",
       "      <td>0.6</td>\n",
       "      <td>0.4</td>\n",
       "      <td>0.6</td>\n",
       "      <td>Toy &gt;9lb</td>\n",
       "      <td>1.0</td>\n",
       "      <td>High</td>\n",
       "      <td>Chihuahua</td>\n",
       "    </tr>\n",
       "    <tr>\n",
       "      <th>275753</th>\n",
       "      <td>275753</td>\n",
       "      <td>Staten Island</td>\n",
       "      <td>No</td>\n",
       "      <td>middle</td>\n",
       "      <td>0.4</td>\n",
       "      <td>0.8</td>\n",
       "      <td>1.0</td>\n",
       "      <td>1.0</td>\n",
       "      <td>1.0</td>\n",
       "      <td>Small 9-35lb</td>\n",
       "      <td>0.6</td>\n",
       "      <td>Medium</td>\n",
       "      <td>Labrador Retriever</td>\n",
       "    </tr>\n",
       "    <tr>\n",
       "      <th>275754</th>\n",
       "      <td>275754</td>\n",
       "      <td>Queens</td>\n",
       "      <td>No</td>\n",
       "      <td>middle</td>\n",
       "      <td>0.4</td>\n",
       "      <td>0.2</td>\n",
       "      <td>0.6</td>\n",
       "      <td>1.0</td>\n",
       "      <td>1.0</td>\n",
       "      <td>Toy &gt;9lb</td>\n",
       "      <td>0.8</td>\n",
       "      <td>Low</td>\n",
       "      <td>Boston Terrier</td>\n",
       "    </tr>\n",
       "  </tbody>\n",
       "</table>\n",
       "</div>"
      ],
      "text/plain": [
       "        Unnamed: 0        Borough dog_friendly income_cat  grooming_frequency  \\\n",
       "275750      275750         Queens          Yes     middle                 1.0   \n",
       "275751      275751      Manhattan          Yes       high                 0.4   \n",
       "275752      275752       Brooklyn           No     middle                 0.2   \n",
       "275753      275753  Staten Island           No     middle                 0.4   \n",
       "275754      275754         Queens           No     middle                 0.4   \n",
       "\n",
       "        shedding  energy_level  trainability  demeanor          size  \\\n",
       "275750       0.2           0.6           0.2       0.8      Toy >9lb   \n",
       "275751       0.4           0.4           1.0       0.8      Toy >9lb   \n",
       "275752       0.4           0.6           0.4       0.6      Toy >9lb   \n",
       "275753       0.8           1.0           1.0       1.0  Small 9-35lb   \n",
       "275754       0.2           0.6           1.0       1.0      Toy >9lb   \n",
       "\n",
       "        life_expectancy lifetime_cost                          Breed  \n",
       "275750              0.8        Medium              Yorkshire Terrier  \n",
       "275751              0.8        Medium  Cavalier King Charles Spaniel  \n",
       "275752              1.0          High                      Chihuahua  \n",
       "275753              0.6        Medium             Labrador Retriever  \n",
       "275754              0.8           Low                 Boston Terrier  "
      ]
     },
     "metadata": {},
     "output_type": "display_data"
    }
   ],
   "source": [
    "# Read the preprocessed_doggy file into a DataFrame\n",
    "doggy_df = pd.read_csv(\n",
    "    Path(\"preprocessed_doggy.csv\")\n",
    ")\n",
    "\n",
    "# Review the DataFrame\n",
    "display(doggy_df.head())\n",
    "display(doggy_df.tail())"
   ]
  },
  {
   "cell_type": "code",
   "execution_count": 3,
   "metadata": {
    "colab": {
     "base_uri": "https://localhost:8080/"
    },
    "id": "Yr5dcF-gm5yn",
    "outputId": "06476eb9-0844-4997-8155-baf8d74baa5b"
   },
   "outputs": [
    {
     "name": "stdout",
     "output_type": "stream",
     "text": [
      "<class 'pandas.core.frame.DataFrame'>\n",
      "RangeIndex: 275755 entries, 0 to 275754\n",
      "Data columns (total 12 columns):\n",
      " #   Column              Non-Null Count   Dtype  \n",
      "---  ------              --------------   -----  \n",
      " 0   Borough             275755 non-null  object \n",
      " 1   dog_friendly        275755 non-null  object \n",
      " 2   income_cat          275755 non-null  object \n",
      " 3   grooming_frequency  275755 non-null  float64\n",
      " 4   shedding            275755 non-null  float64\n",
      " 5   energy_level        275755 non-null  float64\n",
      " 6   trainability        275755 non-null  float64\n",
      " 7   demeanor            275755 non-null  float64\n",
      " 8   size                275755 non-null  object \n",
      " 9   life_expectancy     275755 non-null  float64\n",
      " 10  lifetime_cost       275755 non-null  object \n",
      " 11  Breed               275755 non-null  object \n",
      "dtypes: float64(6), object(6)\n",
      "memory usage: 25.2+ MB\n"
     ]
    }
   ],
   "source": [
    "# Remove the Unnamed col\n",
    "doggy_df = doggy_df[['Borough', 'dog_friendly', 'income_cat',\n",
    "       'grooming_frequency', 'shedding', 'energy_level', 'trainability',\n",
    "       'demeanor', 'size', 'life_expectancy', 'lifetime_cost', 'Breed']]\n",
    "\n",
    "doggy_df.info()"
   ]
  },
  {
   "cell_type": "code",
   "execution_count": 4,
   "metadata": {
    "id": "t_BT-XZQQH15"
   },
   "outputs": [],
   "source": [
    "# Split the data into features(X) and targets(y)\n",
    "# First y\n",
    "y = doggy_df['Breed']\n",
    "\n",
    "# Next X\n",
    "X = doggy_df.drop(columns=['Breed'])"
   ]
  },
  {
   "cell_type": "code",
   "execution_count": 5,
   "metadata": {
    "colab": {
     "base_uri": "https://localhost:8080/",
     "height": 331
    },
    "id": "SJRXW71mq2cT",
    "outputId": "2ae44912-863f-437f-d4be-4e4f3fd1ca9c"
   },
   "outputs": [
    {
     "data": {
      "text/plain": [
       "array([10, 30, 49, 24, 14, 14, 10, 10,  3, 28,  3, 25,  3, 49, 29,  9,  6,\n",
       "       25, 26,  6, 14, 10, 15, 30, 15, 29, 15, 49,  3,  6, 44, 29, 44,  3,\n",
       "       26, 16,  3, 23, 45, 37, 10, 15, 29, 12, 43, 39, 49, 28, 15, 30])"
      ]
     },
     "metadata": {},
     "output_type": "display_data"
    },
    {
     "data": {
      "text/plain": [
       "array(['Boxer', 'Maltese', 'Yorkshire Terrier', 'German Shepherd Dog',\n",
       "       'Cavalier King Charles Spaniel', 'Cavalier King Charles Spaniel',\n",
       "       'Boxer', 'Boxer', 'Beagle', 'Havanese', 'Beagle',\n",
       "       'German Shorthaired Pointer', 'Beagle', 'Yorkshire Terrier',\n",
       "       'Labrador Retriever', 'Boston Terrier', 'Bichon Frise',\n",
       "       'German Shorthaired Pointer', 'Golden Retriever', 'Bichon Frise',\n",
       "       'Cavalier King Charles Spaniel', 'Boxer', 'Chihuahua', 'Maltese',\n",
       "       'Chihuahua', 'Labrador Retriever', 'Chihuahua',\n",
       "       'Yorkshire Terrier', 'Beagle', 'Bichon Frise', 'Shih Tzu',\n",
       "       'Labrador Retriever', 'Shih Tzu', 'Beagle', 'Golden Retriever',\n",
       "       'Cocker Spaniel', 'Beagle', 'French Bulldog', 'Siberian Husky',\n",
       "       'Poodle', 'Boxer', 'Chihuahua', 'Labrador Retriever', 'Bulldog',\n",
       "       'Shiba Inu', 'Pug', 'Yorkshire Terrier', 'Havanese', 'Chihuahua',\n",
       "       'Maltese'], dtype=object)"
      ]
     },
     "metadata": {},
     "output_type": "display_data"
    }
   ],
   "source": [
    "# Use LabelEncoder to convert targets(50) into a single column\n",
    "# Use LabelEncoder on the y DataFrame to encode the Dog Breeds\n",
    "label_encoder_df = LabelEncoder()\n",
    "\n",
    "# Encode Labels\n",
    "y_encoded = label_encoder_df.fit_transform(y)\n",
    "\n",
    "# Test the results of the encoder\n",
    "# Display first 50 of encoded column\n",
    "display(y_encoded[0:50])\n",
    "\n",
    "# Get the original labels back\n",
    "display(label_encoder_df.inverse_transform(y_encoded[0:50]))"
   ]
  },
  {
   "cell_type": "code",
   "execution_count": 6,
   "metadata": {
    "id": "6kQ4J6FBPuO3"
   },
   "outputs": [],
   "source": [
    "# Convert Features/Targets into a form suitable for Modeling\n",
    "y = y_encoded\n",
    "\n",
    "X = pd.get_dummies(X, dtype=int)"
   ]
  },
  {
   "cell_type": "code",
   "execution_count": 7,
   "metadata": {
    "colab": {
     "base_uri": "https://localhost:8080/",
     "height": 229
    },
    "id": "bdzQd5ILRUMz",
    "outputId": "4e5421d5-722c-4070-e91d-2f55b77b89a3"
   },
   "outputs": [
    {
     "data": {
      "text/plain": [
       "array([10, 30, 49, 24, 14, 14, 10, 10,  3, 28])"
      ]
     },
     "metadata": {},
     "output_type": "display_data"
    },
    {
     "data": {
      "text/html": [
       "<div>\n",
       "<style scoped>\n",
       "    .dataframe tbody tr th:only-of-type {\n",
       "        vertical-align: middle;\n",
       "    }\n",
       "\n",
       "    .dataframe tbody tr th {\n",
       "        vertical-align: top;\n",
       "    }\n",
       "\n",
       "    .dataframe thead th {\n",
       "        text-align: right;\n",
       "    }\n",
       "</style>\n",
       "<table border=\"1\" class=\"dataframe\">\n",
       "  <thead>\n",
       "    <tr style=\"text-align: right;\">\n",
       "      <th></th>\n",
       "      <th>grooming_frequency</th>\n",
       "      <th>shedding</th>\n",
       "      <th>energy_level</th>\n",
       "      <th>trainability</th>\n",
       "      <th>demeanor</th>\n",
       "      <th>life_expectancy</th>\n",
       "      <th>Borough_Bronx</th>\n",
       "      <th>Borough_Brooklyn</th>\n",
       "      <th>Borough_Manhattan</th>\n",
       "      <th>Borough_Queens</th>\n",
       "      <th>...</th>\n",
       "      <th>income_cat_low</th>\n",
       "      <th>income_cat_middle</th>\n",
       "      <th>size_Giant &lt;75lb</th>\n",
       "      <th>size_Large 55-75lb</th>\n",
       "      <th>size_Medium 35-55lb</th>\n",
       "      <th>size_Small 9-35lb</th>\n",
       "      <th>size_Toy &gt;9lb</th>\n",
       "      <th>lifetime_cost_High</th>\n",
       "      <th>lifetime_cost_Low</th>\n",
       "      <th>lifetime_cost_Medium</th>\n",
       "    </tr>\n",
       "  </thead>\n",
       "  <tbody>\n",
       "    <tr>\n",
       "      <th>0</th>\n",
       "      <td>0.4</td>\n",
       "      <td>0.4</td>\n",
       "      <td>0.8</td>\n",
       "      <td>0.8</td>\n",
       "      <td>1.0</td>\n",
       "      <td>0.6</td>\n",
       "      <td>1</td>\n",
       "      <td>0</td>\n",
       "      <td>0</td>\n",
       "      <td>0</td>\n",
       "      <td>...</td>\n",
       "      <td>0</td>\n",
       "      <td>1</td>\n",
       "      <td>0</td>\n",
       "      <td>0</td>\n",
       "      <td>0</td>\n",
       "      <td>1</td>\n",
       "      <td>0</td>\n",
       "      <td>0</td>\n",
       "      <td>1</td>\n",
       "      <td>0</td>\n",
       "    </tr>\n",
       "    <tr>\n",
       "      <th>1</th>\n",
       "      <td>0.8</td>\n",
       "      <td>0.2</td>\n",
       "      <td>0.6</td>\n",
       "      <td>0.6</td>\n",
       "      <td>1.0</td>\n",
       "      <td>0.8</td>\n",
       "      <td>0</td>\n",
       "      <td>0</td>\n",
       "      <td>1</td>\n",
       "      <td>0</td>\n",
       "      <td>...</td>\n",
       "      <td>0</td>\n",
       "      <td>0</td>\n",
       "      <td>0</td>\n",
       "      <td>0</td>\n",
       "      <td>0</td>\n",
       "      <td>0</td>\n",
       "      <td>1</td>\n",
       "      <td>0</td>\n",
       "      <td>0</td>\n",
       "      <td>1</td>\n",
       "    </tr>\n",
       "    <tr>\n",
       "      <th>2</th>\n",
       "      <td>1.0</td>\n",
       "      <td>0.2</td>\n",
       "      <td>0.6</td>\n",
       "      <td>0.2</td>\n",
       "      <td>0.8</td>\n",
       "      <td>0.8</td>\n",
       "      <td>0</td>\n",
       "      <td>0</td>\n",
       "      <td>1</td>\n",
       "      <td>0</td>\n",
       "      <td>...</td>\n",
       "      <td>0</td>\n",
       "      <td>0</td>\n",
       "      <td>0</td>\n",
       "      <td>0</td>\n",
       "      <td>0</td>\n",
       "      <td>0</td>\n",
       "      <td>1</td>\n",
       "      <td>0</td>\n",
       "      <td>0</td>\n",
       "      <td>1</td>\n",
       "    </tr>\n",
       "  </tbody>\n",
       "</table>\n",
       "<p>3 rows × 24 columns</p>\n",
       "</div>"
      ],
      "text/plain": [
       "   grooming_frequency  shedding  energy_level  trainability  demeanor  \\\n",
       "0                 0.4       0.4           0.8           0.8       1.0   \n",
       "1                 0.8       0.2           0.6           0.6       1.0   \n",
       "2                 1.0       0.2           0.6           0.2       0.8   \n",
       "\n",
       "   life_expectancy  Borough_Bronx  Borough_Brooklyn  Borough_Manhattan  \\\n",
       "0              0.6              1                 0                  0   \n",
       "1              0.8              0                 0                  1   \n",
       "2              0.8              0                 0                  1   \n",
       "\n",
       "   Borough_Queens  ...  income_cat_low  income_cat_middle  size_Giant <75lb  \\\n",
       "0               0  ...               0                  1                 0   \n",
       "1               0  ...               0                  0                 0   \n",
       "2               0  ...               0                  0                 0   \n",
       "\n",
       "   size_Large 55-75lb  size_Medium 35-55lb  size_Small 9-35lb  size_Toy >9lb  \\\n",
       "0                   0                    0                  1              0   \n",
       "1                   0                    0                  0              1   \n",
       "2                   0                    0                  0              1   \n",
       "\n",
       "   lifetime_cost_High  lifetime_cost_Low  lifetime_cost_Medium  \n",
       "0                   0                  1                     0  \n",
       "1                   0                  0                     1  \n",
       "2                   0                  0                     1  \n",
       "\n",
       "[3 rows x 24 columns]"
      ]
     },
     "metadata": {},
     "output_type": "display_data"
    }
   ],
   "source": [
    "# Look at X, y data\n",
    "display(y[0:10])\n",
    "display(X.head(3))"
   ]
  },
  {
   "cell_type": "code",
   "execution_count": 8,
   "metadata": {
    "colab": {
     "base_uri": "https://localhost:8080/"
    },
    "id": "HZen0tPeRpE-",
    "outputId": "21385c22-202f-40f1-c7dd-0a7f77e71309"
   },
   "outputs": [
    {
     "data": {
      "text/plain": [
       "(275755, 24)"
      ]
     },
     "execution_count": 8,
     "metadata": {},
     "output_type": "execute_result"
    }
   ],
   "source": [
    "# Features\n",
    "X.shape"
   ]
  },
  {
   "cell_type": "code",
   "execution_count": 9,
   "metadata": {
    "colab": {
     "base_uri": "https://localhost:8080/"
    },
    "id": "Ixb37H9ySqqu",
    "outputId": "cf09f081-09ac-4f4b-c907-0ab3f39b39b4"
   },
   "outputs": [
    {
     "data": {
      "text/plain": [
       "(275755,)"
      ]
     },
     "execution_count": 9,
     "metadata": {},
     "output_type": "execute_result"
    }
   ],
   "source": [
    "# Target\n",
    "y.shape"
   ]
  },
  {
   "cell_type": "code",
   "execution_count": 10,
   "metadata": {
    "id": "naI5G4WmTKS8"
   },
   "outputs": [],
   "source": [
    "# Split into testing and training sets using train_test_split\n",
    "X_train, X_test, y_train, y_test = train_test_split(X, y)"
   ]
  },
  {
   "cell_type": "code",
   "execution_count": 11,
   "metadata": {
    "colab": {
     "base_uri": "https://localhost:8080/"
    },
    "id": "vk7sFkjXxAf4",
    "outputId": "685418af-db25-47d9-fc40-cfaa76c3e370"
   },
   "outputs": [
    {
     "name": "stdout",
     "output_type": "stream",
     "text": [
      "Best n_estimators: 50\n",
      "Best Accuracy: 0.9995938418924419\n"
     ]
    }
   ],
   "source": [
    "from sklearn.model_selection import GridSearchCV\n",
    "from sklearn.ensemble import RandomForestClassifier\n",
    "\n",
    "# Create a RandomForestClassifier\n",
    "rf_classifier = RandomForestClassifier(random_state=42)\n",
    "\n",
    "# Define the parameter grid\n",
    "param_grid = {'n_estimators': [50, 100, 200, 300]}\n",
    "\n",
    "# Perform a grid search with 5-fold cross-validation\n",
    "grid_search = GridSearchCV(rf_classifier, param_grid, cv=5, scoring='accuracy')\n",
    "grid_search.fit(X_train, y_train)\n",
    "\n",
    "# Print the best parameter and corresponding accuracy\n",
    "print(\"Best n_estimators:\", grid_search.best_params_['n_estimators'])\n",
    "print(\"Best Accuracy:\", grid_search.best_score_)"
   ]
  },
  {
   "cell_type": "code",
   "execution_count": 12,
   "metadata": {
    "colab": {
     "base_uri": "https://localhost:8080/"
    },
    "id": "nBy4lJsX0AJ4",
    "outputId": "e269a2cc-e8f5-4f86-ebbb-4d05366a7597"
   },
   "outputs": [
    {
     "name": "stdout",
     "output_type": "stream",
     "text": [
      "Best n_estimators: 20\n",
      "Best Accuracy: 0.9995938418924419\n"
     ]
    }
   ],
   "source": [
    "# Run the same analysis using results from previous model run to determine best 'n_estimators' param\n",
    "\n",
    "# Create a RandomForestClassifier\n",
    "rf_classifier = RandomForestClassifier(random_state=42)\n",
    "\n",
    "# Define the parameter grid\n",
    "param_grid = {'n_estimators': [20, 35, 50, 70]}\n",
    "\n",
    "# Perform a grid search with 5-fold cross-validation\n",
    "grid_search = GridSearchCV(rf_classifier, param_grid, cv=5, scoring='accuracy')\n",
    "grid_search.fit(X_train, y_train)\n",
    "\n",
    "# Print the best parameter and corresponding accuracy\n",
    "print(\"Best n_estimators:\", grid_search.best_params_['n_estimators'])\n",
    "print(\"Best Accuracy:\", grid_search.best_score_)"
   ]
  },
  {
   "cell_type": "code",
   "execution_count": 13,
   "metadata": {
    "colab": {
     "base_uri": "https://localhost:8080/"
    },
    "id": "mg8qH9231AHk",
    "outputId": "06c995c3-a28d-413f-d8c6-ac20cdb76da5"
   },
   "outputs": [
    {
     "name": "stdout",
     "output_type": "stream",
     "text": [
      "Best n_estimators: 10\n",
      "Best Accuracy: 0.9995938418924419\n"
     ]
    }
   ],
   "source": [
    "# Run the same analysis using results from previous model run to determine best 'n_estimators' param, 3rd attempt\n",
    "\n",
    "# Create a RandomForestClassifier\n",
    "rf_classifier = RandomForestClassifier(random_state=42)\n",
    "\n",
    "# Define the parameter grid\n",
    "param_grid = {'n_estimators': [10, 15, 20, 25]}\n",
    "\n",
    "# Perform a grid search with 5-fold cross-validation\n",
    "grid_search = GridSearchCV(rf_classifier, param_grid, cv=5, scoring='accuracy')\n",
    "grid_search.fit(X_train, y_train)\n",
    "\n",
    "# Print the best parameter and corresponding accuracy\n",
    "print(\"Best n_estimators:\", grid_search.best_params_['n_estimators'])\n",
    "print(\"Best Accuracy:\", grid_search.best_score_)"
   ]
  },
  {
   "cell_type": "code",
   "execution_count": 14,
   "metadata": {
    "colab": {
     "base_uri": "https://localhost:8080/"
    },
    "id": "H02LeEr42KjG",
    "outputId": "5118f928-073d-4a9c-d2dc-80025cea9253"
   },
   "outputs": [
    {
     "name": "stdout",
     "output_type": "stream",
     "text": [
      "Best n_estimators: 8\n",
      "Best Accuracy: 0.9995938418924419\n"
     ]
    }
   ],
   "source": [
    "# Run the same analysis using results from previous model run to determine best 'n_estimators' param, final attempt\n",
    "\n",
    "# Create a RandomForestClassifier\n",
    "rf_classifier = RandomForestClassifier(random_state=42)\n",
    "\n",
    "# Define the parameter grid\n",
    "param_grid = {'n_estimators': [4, 8, 10, 12]}\n",
    "\n",
    "# Perform a grid search with 5-fold cross-validation\n",
    "grid_search = GridSearchCV(rf_classifier, param_grid, cv=5, scoring='accuracy')\n",
    "grid_search.fit(X_train, y_train)\n",
    "\n",
    "# Print the best parameter and corresponding accuracy\n",
    "print(\"Best n_estimators:\", grid_search.best_params_['n_estimators'])\n",
    "print(\"Best Accuracy:\", grid_search.best_score_)"
   ]
  },
  {
   "cell_type": "code",
   "execution_count": 15,
   "metadata": {
    "colab": {
     "base_uri": "https://localhost:8080/"
    },
    "id": "0NKkJy1f3HuB",
    "outputId": "af26ad3f-c9aa-4749-ad85-ac39ec88b889"
   },
   "outputs": [
    {
     "name": "stdout",
     "output_type": "stream",
     "text": [
      "Accuracy: 0.9996953828747154\n",
      "Classification Report:\n",
      "              precision    recall  f1-score   support\n",
      "\n",
      "           0       1.00      1.00      1.00       302\n",
      "           1       1.00      1.00      1.00      1389\n",
      "           2       1.00      1.00      1.00       152\n",
      "           3       1.00      1.00      1.00      2312\n",
      "           4       1.00      1.00      1.00       150\n",
      "           5       1.00      1.00      1.00       373\n",
      "           6       1.00      1.00      1.00      1230\n",
      "           7       0.00      0.00      0.00        21\n",
      "           8       1.00      1.00      1.00       494\n",
      "           9       1.00      1.00      1.00      1315\n",
      "          10       1.00      1.00      1.00       973\n",
      "          11       1.00      1.00      1.00        36\n",
      "          12       1.00      1.00      1.00       256\n",
      "          13       1.00      1.00      1.00       244\n",
      "          14       1.00      1.00      1.00      1758\n",
      "          15       1.00      1.00      1.00      6050\n",
      "          16       1.00      1.00      1.00      1535\n",
      "          17       1.00      1.00      1.00        91\n",
      "          18       1.00      1.00      1.00      1169\n",
      "          19       1.00      1.00      1.00       112\n",
      "          20       1.00      1.00      1.00       305\n",
      "          21       1.00      1.00      1.00       124\n",
      "          22       1.00      1.00      1.00        95\n",
      "          23       1.00      1.00      1.00      2119\n",
      "          24       1.00      1.00      1.00      2153\n",
      "          25       1.00      1.00      1.00       121\n",
      "          26       1.00      1.00      1.00      2267\n",
      "          27       1.00      1.00      1.00       191\n",
      "          28       1.00      1.00      1.00      2654\n",
      "          29       1.00      1.00      1.00      4573\n",
      "          30       1.00      1.00      1.00      4548\n",
      "          31       1.00      1.00      1.00        87\n",
      "          32       1.00      1.00      1.00       136\n",
      "          33       1.00      1.00      1.00       793\n",
      "          34       1.00      1.00      1.00        80\n",
      "          35       1.00      1.00      1.00       484\n",
      "          36       1.00      1.00      1.00      2960\n",
      "          37       1.00      1.00      1.00      1799\n",
      "          38       1.00      1.00      1.00       145\n",
      "          39       1.00      1.00      1.00      1404\n",
      "          40       0.92      1.00      0.96       243\n",
      "          41       1.00      1.00      1.00       590\n",
      "          42       1.00      1.00      1.00       302\n",
      "          43       1.00      1.00      1.00      1890\n",
      "          44       1.00      1.00      1.00      8007\n",
      "          45       1.00      1.00      1.00      1632\n",
      "          46       1.00      1.00      1.00       231\n",
      "          47       1.00      1.00      1.00       165\n",
      "          48       1.00      1.00      1.00       263\n",
      "          49       1.00      1.00      1.00      8616\n",
      "\n",
      "    accuracy                           1.00     68939\n",
      "   macro avg       0.98      0.98      0.98     68939\n",
      "weighted avg       1.00      1.00      1.00     68939\n",
      "\n",
      "\n",
      "Confusion Matrix:\n",
      "[[ 302    0    0 ...    0    0    0]\n",
      " [   0 1389    0 ...    0    0    0]\n",
      " [   0    0  152 ...    0    0    0]\n",
      " ...\n",
      " [   0    0    0 ...  165    0    0]\n",
      " [   0    0    0 ...    0  263    0]\n",
      " [   0    0    0 ...    0    0 8616]]\n"
     ]
    },
    {
     "name": "stderr",
     "output_type": "stream",
     "text": [
      "/Users/sam/anaconda3/envs/dev/lib/python3.10/site-packages/sklearn/metrics/_classification.py:1509: UndefinedMetricWarning: Precision is ill-defined and being set to 0.0 in labels with no predicted samples. Use `zero_division` parameter to control this behavior.\n",
      "  _warn_prf(average, modifier, f\"{metric.capitalize()} is\", len(result))\n",
      "/Users/sam/anaconda3/envs/dev/lib/python3.10/site-packages/sklearn/metrics/_classification.py:1509: UndefinedMetricWarning: Precision is ill-defined and being set to 0.0 in labels with no predicted samples. Use `zero_division` parameter to control this behavior.\n",
      "  _warn_prf(average, modifier, f\"{metric.capitalize()} is\", len(result))\n",
      "/Users/sam/anaconda3/envs/dev/lib/python3.10/site-packages/sklearn/metrics/_classification.py:1509: UndefinedMetricWarning: Precision is ill-defined and being set to 0.0 in labels with no predicted samples. Use `zero_division` parameter to control this behavior.\n",
      "  _warn_prf(average, modifier, f\"{metric.capitalize()} is\", len(result))\n"
     ]
    }
   ],
   "source": [
    "# Evaluate the Metrics for model performance\n",
    "from sklearn.metrics import accuracy_score\n",
    "\n",
    "# Create a RandomForestClassifier\n",
    "rf_classifier = RandomForestClassifier(n_estimators=8, random_state=42)\n",
    "\n",
    "# Fit the model on the training data\n",
    "rf_classifier.fit(X_train, y_train)\n",
    "\n",
    "# Make predictions on the test data\n",
    "y_pred = rf_classifier.predict(X_test)\n",
    "\n",
    "# Evaluate the model\n",
    "accuracy = accuracy_score(y_test, y_pred)\n",
    "print(\"Accuracy:\", accuracy)\n",
    "\n",
    "# Display additional metrics\n",
    "print(\"Classification Report:\")\n",
    "print(classification_report(y_test, y_pred))\n",
    "print(\"\")\n",
    "print(\"Confusion Matrix:\")\n",
    "print(confusion_matrix(y_test, y_pred))"
   ]
  },
  {
   "cell_type": "code",
   "execution_count": 16,
   "metadata": {
    "colab": {
     "base_uri": "https://localhost:8080/",
     "height": 109
    },
    "id": "8y83aoQq5aho",
    "outputId": "9ee5e89f-4530-4fb6-c3c3-749a58b28cb7"
   },
   "outputs": [
    {
     "name": "stdout",
     "output_type": "stream",
     "text": [
      "100% accuracy for 48 Breeds\n",
      "0% Accuracy in predicting the Breed:\n"
     ]
    },
    {
     "data": {
      "text/plain": [
       "array(['Bloodhound'], dtype=object)"
      ]
     },
     "metadata": {},
     "output_type": "display_data"
    },
    {
     "name": "stdout",
     "output_type": "stream",
     "text": [
      "90 Accuracy for predicting the Breed:\n"
     ]
    },
    {
     "data": {
      "text/plain": [
       "array(['Rhodesian Ridgeback'], dtype=object)"
      ]
     },
     "metadata": {},
     "output_type": "display_data"
    }
   ],
   "source": [
    "# Perfect Accuracy on 48 Breeds, 90% and 0% on the remaining 2. What are those Breeds?\n",
    "\n",
    "# !!!Work on This!!!\n",
    "\n",
    "print(\"100% accuracy for 48 Breeds\")\n",
    "\n",
    "print(\"0% Accuracy in predicting the Breed:\")\n",
    "display(label_encoder_df.inverse_transform([7]))\n",
    "\n",
    "print(\"90 Accuracy for predicting the Breed:\")\n",
    "display(label_encoder_df.inverse_transform([40]))"
   ]
  },
  {
   "cell_type": "code",
   "execution_count": 17,
   "metadata": {
    "colab": {
     "base_uri": "https://localhost:8080/"
    },
    "id": "w7EUZImRQG42",
    "outputId": "43ef1d7f-f4e9-4c90-f38b-e1d6e1656b5e"
   },
   "outputs": [
    {
     "name": "stdout",
     "output_type": "stream",
     "text": [
      "0 49\n"
     ]
    }
   ],
   "source": [
    "print(np.min(y), np.max(y))"
   ]
  },
  {
   "cell_type": "code",
   "execution_count": 18,
   "metadata": {
    "colab": {
     "base_uri": "https://localhost:8080/",
     "height": 1000
    },
    "id": "7a4PeXxgQwTG",
    "outputId": "6a4730ca-395f-472e-efd6-1ad437b0499c"
   },
   "outputs": [
    {
     "data": {
      "text/html": [
       "<div>\n",
       "<style scoped>\n",
       "    .dataframe tbody tr th:only-of-type {\n",
       "        vertical-align: middle;\n",
       "    }\n",
       "\n",
       "    .dataframe tbody tr th {\n",
       "        vertical-align: top;\n",
       "    }\n",
       "\n",
       "    .dataframe thead th {\n",
       "        text-align: right;\n",
       "    }\n",
       "</style>\n",
       "<table border=\"1\" class=\"dataframe\">\n",
       "  <thead>\n",
       "    <tr style=\"text-align: right;\">\n",
       "      <th></th>\n",
       "      <th>encoded</th>\n",
       "      <th>labels</th>\n",
       "    </tr>\n",
       "  </thead>\n",
       "  <tbody>\n",
       "    <tr>\n",
       "      <th>0</th>\n",
       "      <td>0</td>\n",
       "      <td>Australian Cattle Dog</td>\n",
       "    </tr>\n",
       "    <tr>\n",
       "      <th>1</th>\n",
       "      <td>1</td>\n",
       "      <td>Australian Shepherd</td>\n",
       "    </tr>\n",
       "    <tr>\n",
       "      <th>2</th>\n",
       "      <td>2</td>\n",
       "      <td>Basset Hound</td>\n",
       "    </tr>\n",
       "    <tr>\n",
       "      <th>3</th>\n",
       "      <td>3</td>\n",
       "      <td>Beagle</td>\n",
       "    </tr>\n",
       "    <tr>\n",
       "      <th>4</th>\n",
       "      <td>4</td>\n",
       "      <td>Belgian Malinois</td>\n",
       "    </tr>\n",
       "    <tr>\n",
       "      <th>5</th>\n",
       "      <td>5</td>\n",
       "      <td>Bernese Mountain Dog</td>\n",
       "    </tr>\n",
       "    <tr>\n",
       "      <th>6</th>\n",
       "      <td>6</td>\n",
       "      <td>Bichon Frise</td>\n",
       "    </tr>\n",
       "    <tr>\n",
       "      <th>7</th>\n",
       "      <td>7</td>\n",
       "      <td>Bloodhound</td>\n",
       "    </tr>\n",
       "    <tr>\n",
       "      <th>8</th>\n",
       "      <td>8</td>\n",
       "      <td>Border Collie</td>\n",
       "    </tr>\n",
       "    <tr>\n",
       "      <th>9</th>\n",
       "      <td>9</td>\n",
       "      <td>Boston Terrier</td>\n",
       "    </tr>\n",
       "    <tr>\n",
       "      <th>10</th>\n",
       "      <td>10</td>\n",
       "      <td>Boxer</td>\n",
       "    </tr>\n",
       "    <tr>\n",
       "      <th>11</th>\n",
       "      <td>11</td>\n",
       "      <td>Brittany</td>\n",
       "    </tr>\n",
       "    <tr>\n",
       "      <th>12</th>\n",
       "      <td>12</td>\n",
       "      <td>Bulldog</td>\n",
       "    </tr>\n",
       "    <tr>\n",
       "      <th>13</th>\n",
       "      <td>13</td>\n",
       "      <td>Cane Corso</td>\n",
       "    </tr>\n",
       "    <tr>\n",
       "      <th>14</th>\n",
       "      <td>14</td>\n",
       "      <td>Cavalier King Charles Spaniel</td>\n",
       "    </tr>\n",
       "    <tr>\n",
       "      <th>15</th>\n",
       "      <td>15</td>\n",
       "      <td>Chihuahua</td>\n",
       "    </tr>\n",
       "    <tr>\n",
       "      <th>16</th>\n",
       "      <td>16</td>\n",
       "      <td>Cocker Spaniel</td>\n",
       "    </tr>\n",
       "    <tr>\n",
       "      <th>17</th>\n",
       "      <td>17</td>\n",
       "      <td>Collie</td>\n",
       "    </tr>\n",
       "    <tr>\n",
       "      <th>18</th>\n",
       "      <td>18</td>\n",
       "      <td>Dachshund</td>\n",
       "    </tr>\n",
       "    <tr>\n",
       "      <th>19</th>\n",
       "      <td>19</td>\n",
       "      <td>Dalmatian</td>\n",
       "    </tr>\n",
       "    <tr>\n",
       "      <th>20</th>\n",
       "      <td>20</td>\n",
       "      <td>Doberman Pinscher</td>\n",
       "    </tr>\n",
       "    <tr>\n",
       "      <th>21</th>\n",
       "      <td>21</td>\n",
       "      <td>English Cocker Spaniel</td>\n",
       "    </tr>\n",
       "    <tr>\n",
       "      <th>22</th>\n",
       "      <td>22</td>\n",
       "      <td>English Springer Spaniel</td>\n",
       "    </tr>\n",
       "    <tr>\n",
       "      <th>23</th>\n",
       "      <td>23</td>\n",
       "      <td>French Bulldog</td>\n",
       "    </tr>\n",
       "    <tr>\n",
       "      <th>24</th>\n",
       "      <td>24</td>\n",
       "      <td>German Shepherd Dog</td>\n",
       "    </tr>\n",
       "    <tr>\n",
       "      <th>25</th>\n",
       "      <td>25</td>\n",
       "      <td>German Shorthaired Pointer</td>\n",
       "    </tr>\n",
       "    <tr>\n",
       "      <th>26</th>\n",
       "      <td>26</td>\n",
       "      <td>Golden Retriever</td>\n",
       "    </tr>\n",
       "    <tr>\n",
       "      <th>27</th>\n",
       "      <td>27</td>\n",
       "      <td>Great Dane</td>\n",
       "    </tr>\n",
       "    <tr>\n",
       "      <th>28</th>\n",
       "      <td>28</td>\n",
       "      <td>Havanese</td>\n",
       "    </tr>\n",
       "    <tr>\n",
       "      <th>29</th>\n",
       "      <td>29</td>\n",
       "      <td>Labrador Retriever</td>\n",
       "    </tr>\n",
       "    <tr>\n",
       "      <th>30</th>\n",
       "      <td>30</td>\n",
       "      <td>Maltese</td>\n",
       "    </tr>\n",
       "    <tr>\n",
       "      <th>31</th>\n",
       "      <td>31</td>\n",
       "      <td>Mastiff</td>\n",
       "    </tr>\n",
       "    <tr>\n",
       "      <th>32</th>\n",
       "      <td>32</td>\n",
       "      <td>Miniature American Shepherd</td>\n",
       "    </tr>\n",
       "    <tr>\n",
       "      <th>33</th>\n",
       "      <td>33</td>\n",
       "      <td>Miniature Schnauzer</td>\n",
       "    </tr>\n",
       "    <tr>\n",
       "      <th>34</th>\n",
       "      <td>34</td>\n",
       "      <td>Newfoundland</td>\n",
       "    </tr>\n",
       "    <tr>\n",
       "      <th>35</th>\n",
       "      <td>35</td>\n",
       "      <td>Pembroke Welsh Corgi</td>\n",
       "    </tr>\n",
       "    <tr>\n",
       "      <th>36</th>\n",
       "      <td>36</td>\n",
       "      <td>Pomeranian</td>\n",
       "    </tr>\n",
       "    <tr>\n",
       "      <th>37</th>\n",
       "      <td>37</td>\n",
       "      <td>Poodle</td>\n",
       "    </tr>\n",
       "    <tr>\n",
       "      <th>38</th>\n",
       "      <td>38</td>\n",
       "      <td>Portuguese Water Dog</td>\n",
       "    </tr>\n",
       "    <tr>\n",
       "      <th>39</th>\n",
       "      <td>39</td>\n",
       "      <td>Pug</td>\n",
       "    </tr>\n",
       "    <tr>\n",
       "      <th>40</th>\n",
       "      <td>40</td>\n",
       "      <td>Rhodesian Ridgeback</td>\n",
       "    </tr>\n",
       "    <tr>\n",
       "      <th>41</th>\n",
       "      <td>41</td>\n",
       "      <td>Rottweiler</td>\n",
       "    </tr>\n",
       "    <tr>\n",
       "      <th>42</th>\n",
       "      <td>42</td>\n",
       "      <td>Shetland Sheepdog</td>\n",
       "    </tr>\n",
       "    <tr>\n",
       "      <th>43</th>\n",
       "      <td>43</td>\n",
       "      <td>Shiba Inu</td>\n",
       "    </tr>\n",
       "    <tr>\n",
       "      <th>44</th>\n",
       "      <td>44</td>\n",
       "      <td>Shih Tzu</td>\n",
       "    </tr>\n",
       "    <tr>\n",
       "      <th>45</th>\n",
       "      <td>45</td>\n",
       "      <td>Siberian Husky</td>\n",
       "    </tr>\n",
       "    <tr>\n",
       "      <th>46</th>\n",
       "      <td>46</td>\n",
       "      <td>Vizsla</td>\n",
       "    </tr>\n",
       "    <tr>\n",
       "      <th>47</th>\n",
       "      <td>47</td>\n",
       "      <td>Weimaraner</td>\n",
       "    </tr>\n",
       "    <tr>\n",
       "      <th>48</th>\n",
       "      <td>48</td>\n",
       "      <td>West Highland White Terrier</td>\n",
       "    </tr>\n",
       "    <tr>\n",
       "      <th>49</th>\n",
       "      <td>49</td>\n",
       "      <td>Yorkshire Terrier</td>\n",
       "    </tr>\n",
       "  </tbody>\n",
       "</table>\n",
       "</div>"
      ],
      "text/plain": [
       "    encoded                         labels\n",
       "0         0          Australian Cattle Dog\n",
       "1         1            Australian Shepherd\n",
       "2         2                   Basset Hound\n",
       "3         3                         Beagle\n",
       "4         4               Belgian Malinois\n",
       "5         5           Bernese Mountain Dog\n",
       "6         6                   Bichon Frise\n",
       "7         7                     Bloodhound\n",
       "8         8                  Border Collie\n",
       "9         9                 Boston Terrier\n",
       "10       10                          Boxer\n",
       "11       11                       Brittany\n",
       "12       12                        Bulldog\n",
       "13       13                     Cane Corso\n",
       "14       14  Cavalier King Charles Spaniel\n",
       "15       15                      Chihuahua\n",
       "16       16                 Cocker Spaniel\n",
       "17       17                         Collie\n",
       "18       18                      Dachshund\n",
       "19       19                      Dalmatian\n",
       "20       20              Doberman Pinscher\n",
       "21       21         English Cocker Spaniel\n",
       "22       22       English Springer Spaniel\n",
       "23       23                 French Bulldog\n",
       "24       24            German Shepherd Dog\n",
       "25       25     German Shorthaired Pointer\n",
       "26       26               Golden Retriever\n",
       "27       27                     Great Dane\n",
       "28       28                       Havanese\n",
       "29       29             Labrador Retriever\n",
       "30       30                        Maltese\n",
       "31       31                        Mastiff\n",
       "32       32    Miniature American Shepherd\n",
       "33       33            Miniature Schnauzer\n",
       "34       34                   Newfoundland\n",
       "35       35           Pembroke Welsh Corgi\n",
       "36       36                     Pomeranian\n",
       "37       37                         Poodle\n",
       "38       38           Portuguese Water Dog\n",
       "39       39                            Pug\n",
       "40       40            Rhodesian Ridgeback\n",
       "41       41                     Rottweiler\n",
       "42       42              Shetland Sheepdog\n",
       "43       43                      Shiba Inu\n",
       "44       44                       Shih Tzu\n",
       "45       45                 Siberian Husky\n",
       "46       46                         Vizsla\n",
       "47       47                     Weimaraner\n",
       "48       48    West Highland White Terrier\n",
       "49       49              Yorkshire Terrier"
      ]
     },
     "metadata": {},
     "output_type": "display_data"
    }
   ],
   "source": [
    "encoded = list(range(50))\n",
    "labels = label_encoder_df.inverse_transform(encoded)\n",
    "\n",
    "labels_encoded_df = pd.DataFrame()\n",
    "labels_encoded_df['encoded'] = encoded\n",
    "labels_encoded_df['labels'] = labels\n",
    "\n",
    "display(labels_encoded_df.head(50))"
   ]
  },
  {
   "cell_type": "code",
   "execution_count": 19,
   "metadata": {
    "id": "AswHlFJJhKJ8"
   },
   "outputs": [],
   "source": [
    "# Export Label DataFrame as csv\n",
    "labels_encoded_df.to_csv('encoded_labels.csv', index=False)"
   ]
  },
  {
   "cell_type": "code",
   "execution_count": 20,
   "metadata": {
    "colab": {
     "base_uri": "https://localhost:8080/"
    },
    "id": "PlG4XXEcTEUI",
    "outputId": "50fa3e02-4f5c-4f0b-aafc-6f7110dc8ea9"
   },
   "outputs": [
    {
     "name": "stdout",
     "output_type": "stream",
     "text": [
      "                  Feature  Importance\n",
      "0      grooming_frequency    0.168181\n",
      "3            trainability    0.146335\n",
      "5         life_expectancy    0.135072\n",
      "4                demeanor    0.118704\n",
      "1                shedding    0.113735\n",
      "19      size_Small 9-35lb    0.068005\n",
      "2            energy_level    0.065982\n",
      "21     lifetime_cost_High    0.062561\n",
      "22      lifetime_cost_Low    0.039194\n",
      "20          size_Toy >9lb    0.036196\n",
      "23   lifetime_cost_Medium    0.032763\n",
      "18    size_Medium 35-55lb    0.005551\n",
      "17     size_Large 55-75lb    0.002017\n",
      "16       size_Giant <75lb    0.001781\n",
      "13        income_cat_high    0.001005\n",
      "8       Borough_Manhattan    0.000774\n",
      "14         income_cat_low    0.000448\n",
      "9          Borough_Queens    0.000448\n",
      "15      income_cat_middle    0.000390\n",
      "7        Borough_Brooklyn    0.000255\n",
      "6           Borough_Bronx    0.000218\n",
      "10  Borough_Staten Island    0.000175\n",
      "12       dog_friendly_Yes    0.000114\n",
      "11        dog_friendly_No    0.000094\n"
     ]
    }
   ],
   "source": [
    "# Get feature importances\n",
    "feature_importances = rf_classifier.feature_importances_\n",
    "\n",
    "# Create a DataFrame to display feature importances\n",
    "feature_importance_df = pd.DataFrame({'Feature': X_train.columns, 'Importance': feature_importances})\n",
    "feature_importance_df = feature_importance_df.sort_values(by='Importance', ascending=False)\n",
    "\n",
    "# Display the DataFrame\n",
    "print(feature_importance_df)"
   ]
  },
  {
   "cell_type": "code",
   "execution_count": 21,
   "metadata": {
    "colab": {
     "base_uri": "https://localhost:8080/"
    },
    "id": "Qxu3cbLqVeFS",
    "outputId": "bc9f78cf-7f50-47a8-c21d-91a90f66c7c3"
   },
   "outputs": [
    {
     "name": "stdout",
     "output_type": "stream",
     "text": [
      "breed level contribution: 99.61%\n",
      "zipcode level contribution: 0.21%\n",
      "Borough level contribution: 0.19%\n"
     ]
    }
   ],
   "source": [
    "# Model Attribution by Breed, Zipcode, and Borough info\n",
    "\n",
    "# Sum up contributions of the Breed Level data\n",
    "indices_breed = [3, 0, 1, 5, 4, 2, 23, 21, 19, 22, 20, 18, 17, 16]\n",
    "breed_features_contribution = round(feature_importance_df.loc[indices_breed, 'Importance'].sum() * 100, 2)\n",
    "\n",
    "# For ZipCode level data\n",
    "indices_zip = [13, 14, 15, 12, 11]\n",
    "zip_features_contribution = round(feature_importance_df.loc[indices_zip, 'Importance'].sum() * 100, 2)\n",
    "\n",
    "# For Borough level data\n",
    "indices_boro = [8, 9, 6, 7, 10]\n",
    "borough_features_contribution = round(feature_importance_df.loc[indices_boro, 'Importance'].sum() * 100, 2)\n",
    "\n",
    "# Print out contributions\n",
    "print(f'breed level contribution: {breed_features_contribution}%')\n",
    "print(f'zipcode level contribution: {zip_features_contribution}%')\n",
    "print(f'Borough level contribution: {borough_features_contribution}%')"
   ]
  },
  {
   "cell_type": "code",
   "execution_count": 22,
   "metadata": {
    "colab": {
     "base_uri": "https://localhost:8080/"
    },
    "id": "kwB9Um1GTGlN",
    "outputId": "a035f610-cbe5-4bf6-d071-47f65f55d196"
   },
   "outputs": [
    {
     "data": {
      "text/plain": [
       "['breed_rf_model.pkl']"
      ]
     },
     "execution_count": 22,
     "metadata": {},
     "output_type": "execute_result"
    }
   ],
   "source": [
    "# Save the Random Forest model\n",
    "import joblib\n",
    "\n",
    "# Save the model to a file\n",
    "joblib.dump(rf_classifier, 'breed_rf_model.pkl')"
   ]
  },
  {
   "cell_type": "code",
   "execution_count": 23,
   "metadata": {
    "colab": {
     "base_uri": "https://localhost:8080/"
    },
    "id": "vBz2QaRoievv",
    "outputId": "8a5a28ad-21a1-47c9-9367-ad62d00e7c80"
   },
   "outputs": [
    {
     "name": "stdout",
     "output_type": "stream",
     "text": [
      "RandomForestClassifier(n_estimators=8, random_state=42)\n"
     ]
    }
   ],
   "source": [
    "loaded_model = joblib.load('breed_rf_model.pkl')\n",
    "\n",
    "print(loaded_model)"
   ]
  },
  {
   "cell_type": "code",
   "execution_count": 24,
   "metadata": {
    "colab": {
     "base_uri": "https://localhost:8080/",
     "height": 626
    },
    "id": "R_KarzBljYTf",
    "outputId": "1f4b4243-c448-4127-ae28-6a04ef5db9f6"
   },
   "outputs": [
    {
     "data": {
      "text/plain": [
       "Index(['grooming_frequency', 'shedding', 'energy_level', 'trainability',\n",
       "       'demeanor', 'life_expectancy', 'Borough_Bronx', 'Borough_Brooklyn',\n",
       "       'Borough_Manhattan', 'Borough_Queens', 'Borough_Staten Island',\n",
       "       'dog_friendly_No', 'dog_friendly_Yes', 'income_cat_high',\n",
       "       'income_cat_low', 'income_cat_middle', 'size_Giant <75lb',\n",
       "       'size_Large 55-75lb', 'size_Medium 35-55lb', 'size_Small 9-35lb',\n",
       "       'size_Toy >9lb', 'lifetime_cost_High', 'lifetime_cost_Low',\n",
       "       'lifetime_cost_Medium'],\n",
       "      dtype='object')"
      ]
     },
     "metadata": {},
     "output_type": "display_data"
    },
    {
     "data": {
      "text/plain": [
       "[0.4,\n",
       " 0.8,\n",
       " 1.0,\n",
       " 1.0,\n",
       " 1.0,\n",
       " 0.6,\n",
       " 0.0,\n",
       " 0.0,\n",
       " 1.0,\n",
       " 0.0,\n",
       " 0.0,\n",
       " 0.0,\n",
       " 1.0,\n",
       " 0.0,\n",
       " 0.0,\n",
       " 1.0,\n",
       " 0.0,\n",
       " 0.0,\n",
       " 0.0,\n",
       " 1.0,\n",
       " 0.0,\n",
       " 0.0,\n",
       " 0.0,\n",
       " 1.0]"
      ]
     },
     "metadata": {},
     "output_type": "display_data"
    }
   ],
   "source": [
    "# Display row 100 as a list\n",
    "test_list = list(X.loc[100])\n",
    "display(X.loc[100].index)\n",
    "display(test_list)"
   ]
  },
  {
   "cell_type": "code",
   "execution_count": 25,
   "metadata": {
    "colab": {
     "base_uri": "https://localhost:8080/"
    },
    "id": "pckQPt37mc6v",
    "outputId": "cd33d7f9-2565-46de-80ef-92a91cd1adc1"
   },
   "outputs": [
    {
     "name": "stdout",
     "output_type": "stream",
     "text": [
      "[0.2, 0.4, 0.6, 0.8, 1.0] 5\n",
      "[0.2, 0.4, 0.6, 0.8, 1.0] 5\n",
      "[0.2, 0.4, 0.6, 0.8, 1.0] 5\n",
      "[0.2, 0.4, 0.6, 0.8, 1.0] 5\n",
      "[0.4, 0.6, 0.8, 1.0] 4\n",
      "[0.4, 0.6, 0.8, 1.0] 4\n"
     ]
    }
   ],
   "source": [
    "# Find the possible values in each column\n",
    "multi_col_list = ['grooming_frequency', 'shedding', 'energy_level', 'trainability','demeanor', 'life_expectancy']\n",
    "\n",
    "for col in multi_col_list:\n",
    "  print(sorted(doggy_df[col].unique()), len(doggy_df[col].unique()))"
   ]
  },
  {
   "cell_type": "code",
   "execution_count": 26,
   "metadata": {
    "colab": {
     "base_uri": "https://localhost:8080/",
     "height": 148
    },
    "id": "Q3-uRsJsGv60",
    "outputId": "ef90bcc5-99fe-477b-9f0f-a9564d5cdf47"
   },
   "outputs": [
    {
     "ename": "AttributeError",
     "evalue": "'RandomForestClassifier' object has no attribute 'feature_names_'",
     "output_type": "error",
     "traceback": [
      "\u001b[0;31m---------------------------------------------------------------------------\u001b[0m",
      "\u001b[0;31mAttributeError\u001b[0m                            Traceback (most recent call last)",
      "Cell \u001b[0;32mIn[26], line 1\u001b[0m\n\u001b[0;32m----> 1\u001b[0m \u001b[43mloaded_model\u001b[49m\u001b[38;5;241;43m.\u001b[39;49m\u001b[43mfeature_names_\u001b[49m\n",
      "\u001b[0;31mAttributeError\u001b[0m: 'RandomForestClassifier' object has no attribute 'feature_names_'"
     ]
    }
   ],
   "source": [
    "loaded_model.feature_names_"
   ]
  },
  {
   "cell_type": "code",
   "execution_count": 27,
   "metadata": {
    "colab": {
     "base_uri": "https://localhost:8080/"
    },
    "id": "IA6ocGmQodkx",
    "outputId": "070a7834-7c7d-4b71-8e52-2f42b5187ba3"
   },
   "outputs": [
    {
     "name": "stdout",
     "output_type": "stream",
     "text": [
      "[41]\n",
      "Rottweiler\n"
     ]
    },
    {
     "name": "stderr",
     "output_type": "stream",
     "text": [
      "/Users/sam/anaconda3/envs/dev/lib/python3.10/site-packages/sklearn/base.py:493: UserWarning: X does not have valid feature names, but RandomForestClassifier was fitted with feature names\n",
      "  warnings.warn(\n"
     ]
    }
   ],
   "source": [
    "# Test Prediction\n",
    "\n",
    "# Choose traits = > [grooming_frequency, shedding, energy_level, trainability, demeanor, life_expectancy],\n",
    "# choose [0.2(only available for the first 4), 0.4, 0.6, 0.8, 1.0] for each trait in order\n",
    "traits = [0.6, 0.6, 0.6, 0.6, 0.6, 0.6]\n",
    "\n",
    "# Choose for Borough => ['Borough_Bronx', 'Borough_Brooklyn', 'Borough_Manhattan', 'Borough_Queens', 'Borough_Staten Island'], place a 1 on boro\n",
    "# and 0 on all other entries\n",
    "borough = [0, 1, 0, 0, 0]\n",
    "\n",
    "# Choose Dog Friendly Area = [No, Yes], place a 1 on choice and 0 on all other entries\n",
    "dog_friendly = [0, 1]\n",
    "\n",
    "# Choose income area => [High, Low, Middle], place a 1 on choice and 0 on all other entries\n",
    "income = [0, 0, 1]\n",
    "\n",
    "# Choose Dog Size => ['Giant <75lb', 'Large 55-75lb', 'Medium 35-55lb', 'Small 9-35lb', 'Toy >9lb'], place a 1 on choice and 0 on all other entries\n",
    "dog_size = [0, 0, 1, 0, 0]\n",
    "\n",
    "# Choose Lifetime Cost = ['High', 'Low', 'Medium'], place a 1 on choice and 0 on all other entries\n",
    "lifetime_cost = [0, 0, 1]\n",
    "\n",
    "# Combine the lists to create a single input to the model\n",
    "choices = np.array(traits + borough + dog_friendly + income + dog_size + lifetime_cost)\n",
    "\n",
    "# Change the shape of the array\n",
    "choices = choices.reshape(1, -1)\n",
    "\n",
    "# Model Prediction\n",
    "predictions = loaded_model.predict(choices)\n",
    "\n",
    "# Display the predictions\n",
    "print(predictions)\n",
    "print(labels_encoded_df['labels'].loc[predictions[0]])\n"
   ]
  },
  {
   "cell_type": "code",
   "execution_count": 28,
   "metadata": {
    "colab": {
     "base_uri": "https://localhost:8080/"
    },
    "id": "8zulVBFruuLj",
    "outputId": "056a3103-3146-45dc-8da9-ecf0ea9d8ccb"
   },
   "outputs": [],
   "source": [
    "# from sklearn.ensemble import RandomForestClassifier\n",
    "# loaded_model.n_features_in_"
   ]
  },
  {
   "cell_type": "code",
   "execution_count": 29,
   "metadata": {},
   "outputs": [
    {
     "data": {
      "text/plain": [
       "['breed_rf_model.pkl']"
      ]
     },
     "execution_count": 29,
     "metadata": {},
     "output_type": "execute_result"
    }
   ],
   "source": [
    "import joblib\n",
    "\n",
    "# Load the model\n",
    "model = joblib.load('breed_rf_model.pkl')\n",
    "\n",
    "# Re-save the model with protocol version 4\n",
    "joblib.dump(model, 'breed_rf_model.pkl', protocol=4)\n"
   ]
  },
  {
   "cell_type": "code",
   "execution_count": 30,
   "metadata": {},
   "outputs": [
    {
     "name": "stdout",
     "output_type": "stream",
     "text": [
      "   encoded                 labels\n",
      "0        0  Australian Cattle Dog\n",
      "1        1    Australian Shepherd\n",
      "2        2           Basset Hound\n",
      "3        3                 Beagle\n",
      "4        4       Belgian Malinois\n"
     ]
    }
   ],
   "source": [
    "import pandas as pd\n",
    "\n",
    "# Load the encoded labels from the CSV file\n",
    "labels_encoded_df = pd.read_csv('encoded_labels.csv')\n",
    "\n",
    "# Assuming your CSV file has columns 'encoded' and 'labels'\n",
    "# Display the DataFrame to ensure it's loaded correctly\n",
    "print(labels_encoded_df.head())\n"
   ]
  },
  {
   "cell_type": "code",
   "execution_count": 32,
   "metadata": {},
   "outputs": [
    {
     "name": "stdout",
     "output_type": "stream",
     "text": [
      "/Users/sam/Desktop/FINAL_PROJECT/Project_4/templates\n"
     ]
    }
   ],
   "source": [
    "from flask import Flask\n",
    "\n",
    "# Create Flask app instance\n",
    "app = Flask(__name__)\n",
    "\n",
    "# Set the template folder\n",
    "app.template_folder = '/Users/sam/Desktop/FINAL_PROJECT/Project_4/templates'  # Replace '/path/to/templates' with the actual path to your templates folder\n",
    "\n",
    "# Now you can print the template folder\n",
    "print(app.template_folder)\n"
   ]
  },
  {
   "cell_type": "code",
   "execution_count": null,
   "metadata": {},
   "outputs": [],
   "source": []
  }
 ],
 "metadata": {
  "colab": {
   "provenance": []
  },
  "kernelspec": {
   "display_name": "Python 3 (ipykernel)",
   "language": "python",
   "name": "python3"
  },
  "language_info": {
   "codemirror_mode": {
    "name": "ipython",
    "version": 3
   },
   "file_extension": ".py",
   "mimetype": "text/x-python",
   "name": "python",
   "nbconvert_exporter": "python",
   "pygments_lexer": "ipython3",
   "version": "3.10.13"
  }
 },
 "nbformat": 4,
 "nbformat_minor": 1
}
