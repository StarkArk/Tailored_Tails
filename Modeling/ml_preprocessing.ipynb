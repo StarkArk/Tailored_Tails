{
 "cells": [
  {
   "cell_type": "markdown",
   "id": "2a31c2d6-e0f1-43e2-a359-cb0b0a5e59d7",
   "metadata": {},
   "source": [
    "# Pre-processing Doggy Data to deploy for training"
   ]
  },
  {
   "cell_type": "code",
   "execution_count": 1,
   "id": "66a723bc-4c37-414c-8033-e016c2c3a1b5",
   "metadata": {
    "tags": []
   },
   "outputs": [],
   "source": [
    "# Import dependencies\n",
    "import pandas as pd\n",
    "import numpy as np"
   ]
  },
  {
   "cell_type": "code",
   "execution_count": 2,
   "id": "53ee1a6e-45ec-49d2-919b-72a2ce698bed",
   "metadata": {
    "tags": []
   },
   "outputs": [],
   "source": [
    "# Read in DataFrame\n",
    "doggy_raw_df = pd.read_csv('../Exploration/cleaned_data/doggy_master_merged.csv')"
   ]
  },
  {
   "cell_type": "code",
   "execution_count": 3,
   "id": "1b355dcb-59af-4b03-9bf4-3aa232977b3f",
   "metadata": {
    "tags": []
   },
   "outputs": [
    {
     "data": {
      "text/html": [
       "<div>\n",
       "<style scoped>\n",
       "    .dataframe tbody tr th:only-of-type {\n",
       "        vertical-align: middle;\n",
       "    }\n",
       "\n",
       "    .dataframe tbody tr th {\n",
       "        vertical-align: top;\n",
       "    }\n",
       "\n",
       "    .dataframe thead th {\n",
       "        text-align: right;\n",
       "    }\n",
       "</style>\n",
       "<table border=\"1\" class=\"dataframe\">\n",
       "  <thead>\n",
       "    <tr style=\"text-align: right;\">\n",
       "      <th></th>\n",
       "      <th>Unnamed: 0</th>\n",
       "      <th>Borough</th>\n",
       "      <th>humans/household</th>\n",
       "      <th>dfriendlyareas_by_zip</th>\n",
       "      <th>avg_income</th>\n",
       "      <th>Breed</th>\n",
       "      <th>grooming_frequency_value</th>\n",
       "      <th>shedding_value</th>\n",
       "      <th>energy_level_value</th>\n",
       "      <th>trainability_value</th>\n",
       "      <th>demeanor_value</th>\n",
       "      <th>average_expectancy</th>\n",
       "      <th>average_weight</th>\n",
       "      <th>size_cat</th>\n",
       "    </tr>\n",
       "  </thead>\n",
       "  <tbody>\n",
       "    <tr>\n",
       "      <th>0</th>\n",
       "      <td>0</td>\n",
       "      <td>Bronx</td>\n",
       "      <td>2.750349</td>\n",
       "      <td>3.0</td>\n",
       "      <td>64590.15519</td>\n",
       "      <td>Boxer</td>\n",
       "      <td>0.4</td>\n",
       "      <td>0.4</td>\n",
       "      <td>0.8</td>\n",
       "      <td>0.8</td>\n",
       "      <td>1.0</td>\n",
       "      <td>11.0</td>\n",
       "      <td>21.545638</td>\n",
       "      <td>Small 9-35lb</td>\n",
       "    </tr>\n",
       "    <tr>\n",
       "      <th>1</th>\n",
       "      <td>1</td>\n",
       "      <td>Manhattan</td>\n",
       "      <td>1.886575</td>\n",
       "      <td>1.0</td>\n",
       "      <td>407561.34940</td>\n",
       "      <td>Maltese</td>\n",
       "      <td>0.8</td>\n",
       "      <td>0.2</td>\n",
       "      <td>0.6</td>\n",
       "      <td>0.6</td>\n",
       "      <td>1.0</td>\n",
       "      <td>13.5</td>\n",
       "      <td>3.175147</td>\n",
       "      <td>Toy &gt;9lb</td>\n",
       "    </tr>\n",
       "    <tr>\n",
       "      <th>2</th>\n",
       "      <td>2</td>\n",
       "      <td>Manhattan</td>\n",
       "      <td>1.886575</td>\n",
       "      <td>2.0</td>\n",
       "      <td>269713.38250</td>\n",
       "      <td>Yorkshire Terrier</td>\n",
       "      <td>1.0</td>\n",
       "      <td>0.2</td>\n",
       "      <td>0.6</td>\n",
       "      <td>0.2</td>\n",
       "      <td>0.8</td>\n",
       "      <td>13.0</td>\n",
       "      <td>3.175147</td>\n",
       "      <td>Toy &gt;9lb</td>\n",
       "    </tr>\n",
       "    <tr>\n",
       "      <th>3</th>\n",
       "      <td>3</td>\n",
       "      <td>Brooklyn</td>\n",
       "      <td>2.551367</td>\n",
       "      <td>2.0</td>\n",
       "      <td>32736.84590</td>\n",
       "      <td>German Shepherd Dog</td>\n",
       "      <td>0.4</td>\n",
       "      <td>0.8</td>\n",
       "      <td>0.6</td>\n",
       "      <td>1.0</td>\n",
       "      <td>0.6</td>\n",
       "      <td>8.5</td>\n",
       "      <td>31.751466</td>\n",
       "      <td>Small 9-35lb</td>\n",
       "    </tr>\n",
       "    <tr>\n",
       "      <th>4</th>\n",
       "      <td>4</td>\n",
       "      <td>Brooklyn</td>\n",
       "      <td>2.551367</td>\n",
       "      <td>1.0</td>\n",
       "      <td>115964.90350</td>\n",
       "      <td>Cavalier King Charles Spaniel</td>\n",
       "      <td>0.4</td>\n",
       "      <td>0.4</td>\n",
       "      <td>0.4</td>\n",
       "      <td>1.0</td>\n",
       "      <td>0.8</td>\n",
       "      <td>13.5</td>\n",
       "      <td>7.030682</td>\n",
       "      <td>Toy &gt;9lb</td>\n",
       "    </tr>\n",
       "  </tbody>\n",
       "</table>\n",
       "</div>"
      ],
      "text/plain": [
       "   Unnamed: 0    Borough  humans/household  dfriendlyareas_by_zip  \\\n",
       "0           0      Bronx          2.750349                    3.0   \n",
       "1           1  Manhattan          1.886575                    1.0   \n",
       "2           2  Manhattan          1.886575                    2.0   \n",
       "3           3   Brooklyn          2.551367                    2.0   \n",
       "4           4   Brooklyn          2.551367                    1.0   \n",
       "\n",
       "     avg_income                          Breed  grooming_frequency_value  \\\n",
       "0   64590.15519                          Boxer                       0.4   \n",
       "1  407561.34940                        Maltese                       0.8   \n",
       "2  269713.38250              Yorkshire Terrier                       1.0   \n",
       "3   32736.84590            German Shepherd Dog                       0.4   \n",
       "4  115964.90350  Cavalier King Charles Spaniel                       0.4   \n",
       "\n",
       "   shedding_value  energy_level_value  trainability_value  demeanor_value  \\\n",
       "0             0.4                 0.8                 0.8             1.0   \n",
       "1             0.2                 0.6                 0.6             1.0   \n",
       "2             0.2                 0.6                 0.2             0.8   \n",
       "3             0.8                 0.6                 1.0             0.6   \n",
       "4             0.4                 0.4                 1.0             0.8   \n",
       "\n",
       "   average_expectancy  average_weight      size_cat  \n",
       "0                11.0       21.545638  Small 9-35lb  \n",
       "1                13.5        3.175147      Toy >9lb  \n",
       "2                13.0        3.175147      Toy >9lb  \n",
       "3                 8.5       31.751466  Small 9-35lb  \n",
       "4                13.5        7.030682      Toy >9lb  "
      ]
     },
     "execution_count": 3,
     "metadata": {},
     "output_type": "execute_result"
    }
   ],
   "source": [
    "# Look at the first 5 rows\n",
    "doggy_raw_df.head(5)"
   ]
  },
  {
   "cell_type": "code",
   "execution_count": 4,
   "id": "8d2ae22d-d3d7-463f-b5b9-9a3c72d09c9b",
   "metadata": {
    "tags": []
   },
   "outputs": [
    {
     "name": "stdout",
     "output_type": "stream",
     "text": [
      "<class 'pandas.core.frame.DataFrame'>\n",
      "RangeIndex: 275755 entries, 0 to 275754\n",
      "Data columns (total 14 columns):\n",
      " #   Column                    Non-Null Count   Dtype  \n",
      "---  ------                    --------------   -----  \n",
      " 0   Unnamed: 0                275755 non-null  int64  \n",
      " 1   Borough                   275755 non-null  object \n",
      " 2   humans/household          275755 non-null  float64\n",
      " 3   dfriendlyareas_by_zip     275755 non-null  float64\n",
      " 4   avg_income                275755 non-null  float64\n",
      " 5   Breed                     275755 non-null  object \n",
      " 6   grooming_frequency_value  275755 non-null  float64\n",
      " 7   shedding_value            275755 non-null  float64\n",
      " 8   energy_level_value        275755 non-null  float64\n",
      " 9   trainability_value        275755 non-null  float64\n",
      " 10  demeanor_value            275755 non-null  float64\n",
      " 11  average_expectancy        275755 non-null  float64\n",
      " 12  average_weight            275755 non-null  float64\n",
      " 13  size_cat                  275755 non-null  object \n",
      "dtypes: float64(10), int64(1), object(3)\n",
      "memory usage: 29.5+ MB\n"
     ]
    }
   ],
   "source": [
    "# Look at dtypes and info\n",
    "doggy_raw_df.info()"
   ]
  },
  {
   "cell_type": "code",
   "execution_count": 6,
   "id": "cb8437c7-fd1c-4296-9953-cac3cf075bd7",
   "metadata": {
    "tags": []
   },
   "outputs": [
    {
     "data": {
      "text/plain": [
       "Index(['Borough', 'humans/household', 'dfriendlyareas_by_zip', 'avg_income',\n",
       "       'Breed', 'grooming_frequency_value', 'shedding_value',\n",
       "       'energy_level_value', 'trainability_value', 'demeanor_value',\n",
       "       'average_expectancy', 'average_weight', 'size_cat'],\n",
       "      dtype='object')"
      ]
     },
     "execution_count": 6,
     "metadata": {},
     "output_type": "execute_result"
    }
   ],
   "source": [
    "# Clip out the first column\n",
    "doggy_raw_df = doggy_raw_df[['Borough', 'humans/household', 'dfriendlyareas_by_zip',\n",
    "       'avg_income', 'Breed', 'grooming_frequency_value', 'shedding_value',\n",
    "       'energy_level_value', 'trainability_value', 'demeanor_value',\n",
    "       'average_expectancy', 'average_weight', 'size_cat']]\n",
    "\n",
    "doggy_raw_df.columns"
   ]
  }
 ],
 "metadata": {
  "kernelspec": {
   "display_name": "Python 3 (ipykernel)",
   "language": "python",
   "name": "python3"
  },
  "language_info": {
   "codemirror_mode": {
    "name": "ipython",
    "version": 3
   },
   "file_extension": ".py",
   "mimetype": "text/x-python",
   "name": "python",
   "nbconvert_exporter": "python",
   "pygments_lexer": "ipython3",
   "version": "3.10.13"
  }
 },
 "nbformat": 4,
 "nbformat_minor": 5
}
