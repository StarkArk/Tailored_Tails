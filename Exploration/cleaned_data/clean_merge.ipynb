{
 "cells": [
  {
   "cell_type": "markdown",
   "id": "97a56947-2406-46b5-b6c3-5d57289ee7a6",
   "metadata": {},
   "source": [
    "# Notebook to Merge Cleaned Files"
   ]
  },
  {
   "cell_type": "code",
   "execution_count": 1,
   "id": "69da6a3b-6039-4f86-989e-a2acb87a78c5",
   "metadata": {
    "tags": []
   },
   "outputs": [],
   "source": [
    "import pandas as pd\n",
    "import numpy as np"
   ]
  },
  {
   "cell_type": "code",
   "execution_count": 4,
   "id": "49cb8b99-d1f5-49e7-b8ca-62292acb134a",
   "metadata": {},
   "outputs": [],
   "source": [
    "# Read in cleaned csv's into DataFrames\n",
    "# NYC Dog Licensing Data with ZipCode/Borough and top 50 American Kennel Club(AKC) Dog Breeds included\n",
    "top50breeds_licensing_df = pd.read_csv('t50_lic_dogs_cleaned.csv', dtype=str)\n",
    "# CSV with Borough level info for average number of people per dog friendly use area(dog runs or off-leash areas)\n",
    "avg_pop_per_park_df = pd.read_csv('average_population_per_dogpark_cleaned.csv')\n",
    "# Demographic Summary Table by Borough\n",
    "demo_summary_df = pd.read_csv('demo_summary_cleaned.csv')\n",
    "# A count of Friendly Dog Use areas by zipcode\n",
    "dogfriendly_by_zip_df = pd.read_csv('dogfriendlycount_by_zip_cleaned.csv')\n",
    "# Top 50 AKC breeds with attributes\n",
    "top50breeds_df = pd.read_csv('top50breeds.csv')\n",
    "# Avg Income by NYC Zip Code\n",
    "nyc_income_df = pd.read_csv('IRS_NY_2020.csv')\n",
    "# Dog Breed Lifetime Cost\n",
    "breed_life_cost_df = pd.read_csv('dog_lifetime_cost.csv')\n"
   ]
  },
  {
   "cell_type": "code",
   "execution_count": 5,
   "id": "463245e3-1c1d-4798-8129-4020eabf203f",
   "metadata": {
    "tags": []
   },
   "outputs": [
    {
     "data": {
      "text/html": [
       "<div>\n",
       "<style scoped>\n",
       "    .dataframe tbody tr th:only-of-type {\n",
       "        vertical-align: middle;\n",
       "    }\n",
       "\n",
       "    .dataframe tbody tr th {\n",
       "        vertical-align: top;\n",
       "    }\n",
       "\n",
       "    .dataframe thead th {\n",
       "        text-align: right;\n",
       "    }\n",
       "</style>\n",
       "<table border=\"1\" class=\"dataframe\">\n",
       "  <thead>\n",
       "    <tr style=\"text-align: right;\">\n",
       "      <th></th>\n",
       "      <th>Unnamed: 0</th>\n",
       "      <th>AnimalGender</th>\n",
       "      <th>AnimalBirthYear</th>\n",
       "      <th>BreedName</th>\n",
       "      <th>ZipCode</th>\n",
       "      <th>Borough</th>\n",
       "    </tr>\n",
       "  </thead>\n",
       "  <tbody>\n",
       "    <tr>\n",
       "      <th>0</th>\n",
       "      <td>1</td>\n",
       "      <td>M</td>\n",
       "      <td>2010</td>\n",
       "      <td>Boxer</td>\n",
       "      <td>10465</td>\n",
       "      <td>Bronx</td>\n",
       "    </tr>\n",
       "    <tr>\n",
       "      <th>1</th>\n",
       "      <td>4</td>\n",
       "      <td>F</td>\n",
       "      <td>2009</td>\n",
       "      <td>Maltese</td>\n",
       "      <td>10028</td>\n",
       "      <td>Manhattan</td>\n",
       "    </tr>\n",
       "  </tbody>\n",
       "</table>\n",
       "</div>"
      ],
      "text/plain": [
       "  Unnamed: 0 AnimalGender AnimalBirthYear BreedName ZipCode    Borough\n",
       "0          1            M            2010     Boxer   10465      Bronx\n",
       "1          4            F            2009   Maltese   10028  Manhattan"
      ]
     },
     "metadata": {},
     "output_type": "display_data"
    },
    {
     "data": {
      "text/html": [
       "<div>\n",
       "<style scoped>\n",
       "    .dataframe tbody tr th:only-of-type {\n",
       "        vertical-align: middle;\n",
       "    }\n",
       "\n",
       "    .dataframe tbody tr th {\n",
       "        vertical-align: top;\n",
       "    }\n",
       "\n",
       "    .dataframe thead th {\n",
       "        text-align: right;\n",
       "    }\n",
       "</style>\n",
       "<table border=\"1\" class=\"dataframe\">\n",
       "  <thead>\n",
       "    <tr style=\"text-align: right;\">\n",
       "      <th></th>\n",
       "      <th>Unnamed: 0</th>\n",
       "      <th>Borough</th>\n",
       "      <th>pop_per_dogpark</th>\n",
       "    </tr>\n",
       "  </thead>\n",
       "  <tbody>\n",
       "    <tr>\n",
       "      <th>0</th>\n",
       "      <td>0</td>\n",
       "      <td>Bronx</td>\n",
       "      <td>47892.833333</td>\n",
       "    </tr>\n",
       "    <tr>\n",
       "      <th>1</th>\n",
       "      <td>1</td>\n",
       "      <td>Brooklyn</td>\n",
       "      <td>68601.368421</td>\n",
       "    </tr>\n",
       "  </tbody>\n",
       "</table>\n",
       "</div>"
      ],
      "text/plain": [
       "   Unnamed: 0   Borough  pop_per_dogpark\n",
       "0           0     Bronx     47892.833333\n",
       "1           1  Brooklyn     68601.368421"
      ]
     },
     "metadata": {},
     "output_type": "display_data"
    },
    {
     "data": {
      "text/html": [
       "<div>\n",
       "<style scoped>\n",
       "    .dataframe tbody tr th:only-of-type {\n",
       "        vertical-align: middle;\n",
       "    }\n",
       "\n",
       "    .dataframe tbody tr th {\n",
       "        vertical-align: top;\n",
       "    }\n",
       "\n",
       "    .dataframe thead th {\n",
       "        text-align: right;\n",
       "    }\n",
       "</style>\n",
       "<table border=\"1\" class=\"dataframe\">\n",
       "  <thead>\n",
       "    <tr style=\"text-align: right;\">\n",
       "      <th></th>\n",
       "      <th>Unnamed: 0</th>\n",
       "      <th>Borough</th>\n",
       "      <th>demo_total_pop</th>\n",
       "      <th>dem_median_age</th>\n",
       "      <th>demo_housing_units</th>\n",
       "      <th>demo_avg_#_per_household</th>\n",
       "    </tr>\n",
       "  </thead>\n",
       "  <tbody>\n",
       "    <tr>\n",
       "      <th>0</th>\n",
       "      <td>0</td>\n",
       "      <td>Bronx</td>\n",
       "      <td>1,436,785</td>\n",
       "      <td>33.3</td>\n",
       "      <td>522,401</td>\n",
       "      <td>2.750349</td>\n",
       "    </tr>\n",
       "    <tr>\n",
       "      <th>1</th>\n",
       "      <td>1</td>\n",
       "      <td>Brooklyn</td>\n",
       "      <td>2,606,852</td>\n",
       "      <td>34.5</td>\n",
       "      <td>1,021,747</td>\n",
       "      <td>2.551367</td>\n",
       "    </tr>\n",
       "  </tbody>\n",
       "</table>\n",
       "</div>"
      ],
      "text/plain": [
       "   Unnamed: 0   Borough demo_total_pop  dem_median_age demo_housing_units  \\\n",
       "0           0     Bronx      1,436,785            33.3            522,401   \n",
       "1           1  Brooklyn      2,606,852            34.5          1,021,747   \n",
       "\n",
       "   demo_avg_#_per_household  \n",
       "0                  2.750349  \n",
       "1                  2.551367  "
      ]
     },
     "metadata": {},
     "output_type": "display_data"
    },
    {
     "data": {
      "text/html": [
       "<div>\n",
       "<style scoped>\n",
       "    .dataframe tbody tr th:only-of-type {\n",
       "        vertical-align: middle;\n",
       "    }\n",
       "\n",
       "    .dataframe tbody tr th {\n",
       "        vertical-align: top;\n",
       "    }\n",
       "\n",
       "    .dataframe thead th {\n",
       "        text-align: right;\n",
       "    }\n",
       "</style>\n",
       "<table border=\"1\" class=\"dataframe\">\n",
       "  <thead>\n",
       "    <tr style=\"text-align: right;\">\n",
       "      <th></th>\n",
       "      <th>Unnamed: 0</th>\n",
       "      <th>ZipCode</th>\n",
       "      <th>cnt_of_dogfriendly_areas_by_zipcode</th>\n",
       "    </tr>\n",
       "  </thead>\n",
       "  <tbody>\n",
       "    <tr>\n",
       "      <th>0</th>\n",
       "      <td>0</td>\n",
       "      <td>11201</td>\n",
       "      <td>4</td>\n",
       "    </tr>\n",
       "    <tr>\n",
       "      <th>1</th>\n",
       "      <td>1</td>\n",
       "      <td>10463</td>\n",
       "      <td>4</td>\n",
       "    </tr>\n",
       "  </tbody>\n",
       "</table>\n",
       "</div>"
      ],
      "text/plain": [
       "   Unnamed: 0  ZipCode  cnt_of_dogfriendly_areas_by_zipcode\n",
       "0           0    11201                                    4\n",
       "1           1    10463                                    4"
      ]
     },
     "metadata": {},
     "output_type": "display_data"
    },
    {
     "data": {
      "text/html": [
       "<div>\n",
       "<style scoped>\n",
       "    .dataframe tbody tr th:only-of-type {\n",
       "        vertical-align: middle;\n",
       "    }\n",
       "\n",
       "    .dataframe tbody tr th {\n",
       "        vertical-align: top;\n",
       "    }\n",
       "\n",
       "    .dataframe thead th {\n",
       "        text-align: right;\n",
       "    }\n",
       "</style>\n",
       "<table border=\"1\" class=\"dataframe\">\n",
       "  <thead>\n",
       "    <tr style=\"text-align: right;\">\n",
       "      <th></th>\n",
       "      <th>Breed</th>\n",
       "      <th>description</th>\n",
       "      <th>temperament</th>\n",
       "      <th>grooming_frequency_value</th>\n",
       "      <th>grooming_frequency_category</th>\n",
       "      <th>shedding_value</th>\n",
       "      <th>shedding_category</th>\n",
       "      <th>energy_level_value</th>\n",
       "      <th>energy_level_category</th>\n",
       "      <th>trainability_value</th>\n",
       "      <th>trainability_category</th>\n",
       "      <th>demeanor_value</th>\n",
       "      <th>demeanor_category</th>\n",
       "      <th>average_height</th>\n",
       "      <th>average_expectancy</th>\n",
       "      <th>average_weight</th>\n",
       "      <th>size</th>\n",
       "      <th>size_cat</th>\n",
       "      <th>image_link</th>\n",
       "    </tr>\n",
       "  </thead>\n",
       "  <tbody>\n",
       "    <tr>\n",
       "      <th>0</th>\n",
       "      <td>Australian Cattle Dog</td>\n",
       "      <td>Standing between 17 to 20 inches at the should...</td>\n",
       "      <td>Alert, Curious, Pleasant</td>\n",
       "      <td>0.2</td>\n",
       "      <td>Occasional Bath/Brush</td>\n",
       "      <td>0.8</td>\n",
       "      <td>Regularly</td>\n",
       "      <td>1.0</td>\n",
       "      <td>Needs Lots of Activity</td>\n",
       "      <td>0.2</td>\n",
       "      <td>May be Stubborn</td>\n",
       "      <td>0.4</td>\n",
       "      <td>Reserved with Strangers</td>\n",
       "      <td>46.99</td>\n",
       "      <td>14.0</td>\n",
       "      <td>19.277676</td>\n",
       "      <td>0.4</td>\n",
       "      <td>Small 9-35lb</td>\n",
       "      <td>https://www.akc.org/wp-content/uploads/2017/11...</td>\n",
       "    </tr>\n",
       "    <tr>\n",
       "      <th>1</th>\n",
       "      <td>Australian Shepherd</td>\n",
       "      <td>The Australian Shepherd, the cowboy’s herding ...</td>\n",
       "      <td>Smart, Work-Oriented, Exuberant</td>\n",
       "      <td>0.4</td>\n",
       "      <td>Weekly Brushing</td>\n",
       "      <td>0.6</td>\n",
       "      <td>Seasonal</td>\n",
       "      <td>0.8</td>\n",
       "      <td>Energetic</td>\n",
       "      <td>1.0</td>\n",
       "      <td>Eager to Please</td>\n",
       "      <td>0.6</td>\n",
       "      <td>Alert/Responsive</td>\n",
       "      <td>52.07</td>\n",
       "      <td>13.5</td>\n",
       "      <td>23.813599</td>\n",
       "      <td>0.4</td>\n",
       "      <td>Small 9-35lb</td>\n",
       "      <td>https://www.akc.org/wp-content/uploads/2017/11...</td>\n",
       "    </tr>\n",
       "  </tbody>\n",
       "</table>\n",
       "</div>"
      ],
      "text/plain": [
       "                   Breed                                        description  \\\n",
       "0  Australian Cattle Dog  Standing between 17 to 20 inches at the should...   \n",
       "1    Australian Shepherd  The Australian Shepherd, the cowboy’s herding ...   \n",
       "\n",
       "                       temperament  grooming_frequency_value  \\\n",
       "0         Alert, Curious, Pleasant                       0.2   \n",
       "1  Smart, Work-Oriented, Exuberant                       0.4   \n",
       "\n",
       "  grooming_frequency_category  shedding_value shedding_category  \\\n",
       "0       Occasional Bath/Brush             0.8         Regularly   \n",
       "1             Weekly Brushing             0.6          Seasonal   \n",
       "\n",
       "   energy_level_value   energy_level_category  trainability_value  \\\n",
       "0                 1.0  Needs Lots of Activity                 0.2   \n",
       "1                 0.8               Energetic                 1.0   \n",
       "\n",
       "  trainability_category  demeanor_value        demeanor_category  \\\n",
       "0       May be Stubborn             0.4  Reserved with Strangers   \n",
       "1       Eager to Please             0.6         Alert/Responsive   \n",
       "\n",
       "   average_height  average_expectancy  average_weight  size      size_cat  \\\n",
       "0           46.99                14.0       19.277676   0.4  Small 9-35lb   \n",
       "1           52.07                13.5       23.813599   0.4  Small 9-35lb   \n",
       "\n",
       "                                          image_link  \n",
       "0  https://www.akc.org/wp-content/uploads/2017/11...  \n",
       "1  https://www.akc.org/wp-content/uploads/2017/11...  "
      ]
     },
     "metadata": {},
     "output_type": "display_data"
    },
    {
     "data": {
      "text/html": [
       "<div>\n",
       "<style scoped>\n",
       "    .dataframe tbody tr th:only-of-type {\n",
       "        vertical-align: middle;\n",
       "    }\n",
       "\n",
       "    .dataframe tbody tr th {\n",
       "        vertical-align: top;\n",
       "    }\n",
       "\n",
       "    .dataframe thead th {\n",
       "        text-align: right;\n",
       "    }\n",
       "</style>\n",
       "<table border=\"1\" class=\"dataframe\">\n",
       "  <thead>\n",
       "    <tr style=\"text-align: right;\">\n",
       "      <th></th>\n",
       "      <th>ZipCode</th>\n",
       "      <th>Number of returns</th>\n",
       "      <th>Total income Amount (In thousand of dollars)</th>\n",
       "      <th>Average total income</th>\n",
       "    </tr>\n",
       "  </thead>\n",
       "  <tbody>\n",
       "    <tr>\n",
       "      <th>0</th>\n",
       "      <td>10001</td>\n",
       "      <td>15590</td>\n",
       "      <td>2830868</td>\n",
       "      <td>181582.29630</td>\n",
       "    </tr>\n",
       "    <tr>\n",
       "      <th>1</th>\n",
       "      <td>10002</td>\n",
       "      <td>41020</td>\n",
       "      <td>2697332</td>\n",
       "      <td>65756.50902</td>\n",
       "    </tr>\n",
       "  </tbody>\n",
       "</table>\n",
       "</div>"
      ],
      "text/plain": [
       "   ZipCode  Number of returns  Total income Amount (In thousand of dollars)  \\\n",
       "0    10001              15590                                       2830868   \n",
       "1    10002              41020                                       2697332   \n",
       "\n",
       "   Average total income  \n",
       "0          181582.29630  \n",
       "1           65756.50902  "
      ]
     },
     "metadata": {},
     "output_type": "display_data"
    },
    {
     "data": {
      "text/html": [
       "<div>\n",
       "<style scoped>\n",
       "    .dataframe tbody tr th:only-of-type {\n",
       "        vertical-align: middle;\n",
       "    }\n",
       "\n",
       "    .dataframe tbody tr th {\n",
       "        vertical-align: top;\n",
       "    }\n",
       "\n",
       "    .dataframe thead th {\n",
       "        text-align: right;\n",
       "    }\n",
       "</style>\n",
       "<table border=\"1\" class=\"dataframe\">\n",
       "  <thead>\n",
       "    <tr style=\"text-align: right;\">\n",
       "      <th></th>\n",
       "      <th>Unnamed: 0</th>\n",
       "      <th>Dog breed</th>\n",
       "      <th>category</th>\n",
       "      <th>LIFETIME COST, $</th>\n",
       "      <th>lifetime_cost_category</th>\n",
       "    </tr>\n",
       "  </thead>\n",
       "  <tbody>\n",
       "    <tr>\n",
       "      <th>0</th>\n",
       "      <td>0</td>\n",
       "      <td>French Bulldog</td>\n",
       "      <td>non-sporting</td>\n",
       "      <td>17266</td>\n",
       "      <td>Low</td>\n",
       "    </tr>\n",
       "    <tr>\n",
       "      <th>1</th>\n",
       "      <td>1</td>\n",
       "      <td>Labrador Retriever</td>\n",
       "      <td>sporting</td>\n",
       "      <td>21299</td>\n",
       "      <td>Medium</td>\n",
       "    </tr>\n",
       "  </tbody>\n",
       "</table>\n",
       "</div>"
      ],
      "text/plain": [
       "   Unnamed: 0           Dog breed      category  LIFETIME COST, $  \\\n",
       "0           0      French Bulldog  non-sporting             17266   \n",
       "1           1  Labrador Retriever      sporting             21299   \n",
       "\n",
       "  lifetime_cost_category  \n",
       "0                    Low  \n",
       "1                 Medium  "
      ]
     },
     "metadata": {},
     "output_type": "display_data"
    }
   ],
   "source": [
    "# Look at the Data\n",
    "display(top50breeds_licensing_df.head(2))\n",
    "display(avg_pop_per_park_df.head(2))\n",
    "display(demo_summary_df.head(2))\n",
    "display(dogfriendly_by_zip_df.head(2))\n",
    "display(top50breeds_df.head(2))\n",
    "display(nyc_income_df.head(2))\n",
    "display(breed_life_cost_df.head(2))"
   ]
  },
  {
   "cell_type": "code",
   "execution_count": 24,
   "id": "badc00b8-0587-49ca-9eb5-25ea88afc8af",
   "metadata": {
    "tags": []
   },
   "outputs": [
    {
     "data": {
      "text/plain": [
       "array(['French Bulldog', 'Labrador Retriever', 'Golden Retriever',\n",
       "       'German Shepherd', 'Poodle', 'Bulldog', 'Rottweiler', 'Beagle',\n",
       "       'Dachshund', 'German Shorthaired Pointer', 'Pembroke Welsh Corgi',\n",
       "       'Australian Shepherd', 'Yorkshire Terrier',\n",
       "       'Cavalier King Charles Spaniel', 'Doberman Pinscher', 'Boxer',\n",
       "       'Miniature Schnauzer', 'Cane Corso', 'Great Dane', 'Shih Tzu',\n",
       "       'Siberian Husky', 'Bernese Mountain Dog', 'Pomeranian',\n",
       "       'Boston Terrier', 'Havanese', 'English Springer Spaniel',\n",
       "       'Shetland Sheepdog', 'Brittany', 'Cocker Spaniel', 'Border Collie',\n",
       "       'Chihuahua', 'Pug', 'Basset Hound', 'Mastiff', 'Maltese', 'Collie',\n",
       "       'English Cocker Spaniel', 'Rhodesian Ridgeback', 'Newfoundland',\n",
       "       'Shiba Inu', 'Weimaraner', 'West Highland White Terrier',\n",
       "       'Portuguese Water Dog', 'Bichon Frise', 'Australian Cattle Dog',\n",
       "       'Dalmatian', 'Bloodhound', 'Belgian Malinois', 'Vizsla',\n",
       "       'Miniature American Shephard'], dtype=object)"
      ]
     },
     "execution_count": 24,
     "metadata": {},
     "output_type": "execute_result"
    }
   ],
   "source": [
    "breed_life_cost_df['Dog breed'].unique()"
   ]
  },
  {
   "cell_type": "code",
   "execution_count": 20,
   "id": "386ee486-8a21-4f2d-8489-e8a7e6a0dece",
   "metadata": {
    "tags": []
   },
   "outputs": [
    {
     "data": {
      "text/plain": [
       "True"
      ]
     },
     "execution_count": 20,
     "metadata": {},
     "output_type": "execute_result"
    }
   ],
   "source": [
    "'Yorkshire Terrier' == 'Yorkshire Terrier'"
   ]
  },
  {
   "cell_type": "code",
   "execution_count": 18,
   "id": "462f9508-a17c-44c8-87c7-6a5e4bc81f74",
   "metadata": {
    "tags": []
   },
   "outputs": [
    {
     "data": {
      "text/plain": [
       "['Australian Cattle Dog',\n",
       " 'Australian Shepherd',\n",
       " 'Basset Hound',\n",
       " 'Beagle',\n",
       " 'Belgian Malinois',\n",
       " 'Bernese Mountain Dog',\n",
       " 'Bichon Frise',\n",
       " 'Bloodhound',\n",
       " 'Border Collie',\n",
       " 'Boston Terrier',\n",
       " 'Boxer',\n",
       " 'Brittany',\n",
       " 'Bulldog',\n",
       " 'Cane Corso',\n",
       " 'Cavalier King Charles Spaniel',\n",
       " 'Chihuahua',\n",
       " 'Cocker Spaniel',\n",
       " 'Collie',\n",
       " 'Dachshund',\n",
       " 'Dalmatian',\n",
       " 'Doberman Pinscher',\n",
       " 'English Cocker Spaniel',\n",
       " 'English Springer Spaniel',\n",
       " 'French Bulldog',\n",
       " 'German Shepherd Dog',\n",
       " 'German Shorthaired Pointer',\n",
       " 'Golden Retriever',\n",
       " 'Great Dane',\n",
       " 'Havanese',\n",
       " 'Labrador Retriever',\n",
       " 'Maltese',\n",
       " 'Mastiff',\n",
       " 'Miniature American Shepherd',\n",
       " 'Miniature Schnauzer',\n",
       " 'Newfoundland',\n",
       " 'Pembroke Welsh Corgi',\n",
       " 'Pomeranian',\n",
       " 'Poodle',\n",
       " 'Portuguese Water Dog',\n",
       " 'Pug',\n",
       " 'Rhodesian Ridgeback',\n",
       " 'Rottweiler',\n",
       " 'Shetland Sheepdog',\n",
       " 'Shiba Inu',\n",
       " 'Shih Tzu',\n",
       " 'Siberian Husky',\n",
       " 'Vizsla',\n",
       " 'Weimaraner',\n",
       " 'West Highland White Terrier',\n",
       " 'Yorkshire Terrier']"
      ]
     },
     "execution_count": 18,
     "metadata": {},
     "output_type": "execute_result"
    }
   ],
   "source": [
    "sorted(top50breeds_licensing_df['BreedName'].unique())\n",
    "\n",
    "# 'Beagle', 'Beagle'"
   ]
  },
  {
   "cell_type": "code",
   "execution_count": 23,
   "id": "34a419d1-b1bc-4079-aace-80ecce3fbdd2",
   "metadata": {
    "tags": []
   },
   "outputs": [
    {
     "data": {
      "text/plain": [
       "0      True\n",
       "1      True\n",
       "2      True\n",
       "3     False\n",
       "4      True\n",
       "5      True\n",
       "6      True\n",
       "7      True\n",
       "8      True\n",
       "9      True\n",
       "10     True\n",
       "11     True\n",
       "12     True\n",
       "13     True\n",
       "14     True\n",
       "15     True\n",
       "16     True\n",
       "17     True\n",
       "18     True\n",
       "19     True\n",
       "20     True\n",
       "21     True\n",
       "22     True\n",
       "23     True\n",
       "24     True\n",
       "25     True\n",
       "26     True\n",
       "27     True\n",
       "28     True\n",
       "29     True\n",
       "30     True\n",
       "31     True\n",
       "32     True\n",
       "33     True\n",
       "34     True\n",
       "35     True\n",
       "36     True\n",
       "37     True\n",
       "38     True\n",
       "39     True\n",
       "40     True\n",
       "41     True\n",
       "42     True\n",
       "43     True\n",
       "44     True\n",
       "45     True\n",
       "46     True\n",
       "47     True\n",
       "48     True\n",
       "49    False\n",
       "Name: Dog breed, dtype: bool"
      ]
     },
     "execution_count": 23,
     "metadata": {},
     "output_type": "execute_result"
    }
   ],
   "source": [
    "breed_life_cost_df['Dog breed'].isin(top50breeds_licensing_df['BreedName'])"
   ]
  },
  {
   "cell_type": "code",
   "execution_count": 21,
   "id": "d0e66643-573d-4ac1-a099-dbbf42c3ec7d",
   "metadata": {
    "tags": []
   },
   "outputs": [
    {
     "name": "stdout",
     "output_type": "stream",
     "text": [
      "<class 'pandas.core.frame.DataFrame'>\n",
      "RangeIndex: 277639 entries, 0 to 277638\n",
      "Data columns (total 6 columns):\n",
      " #   Column           Non-Null Count   Dtype \n",
      "---  ------           --------------   ----- \n",
      " 0   Unnamed: 0       277639 non-null  object\n",
      " 1   AnimalGender     277639 non-null  object\n",
      " 2   AnimalBirthYear  277639 non-null  object\n",
      " 3   BreedName        277639 non-null  object\n",
      " 4   ZipCode          277639 non-null  object\n",
      " 5   Borough          277639 non-null  object\n",
      "dtypes: object(6)\n",
      "memory usage: 12.7+ MB\n"
     ]
    }
   ],
   "source": [
    "top50breeds_licensing_df.info()"
   ]
  },
  {
   "cell_type": "code",
   "execution_count": 25,
   "id": "b0cd3be0-706e-45ff-8338-96f9b25d7250",
   "metadata": {
    "tags": []
   },
   "outputs": [
    {
     "data": {
      "text/plain": [
       "array(['Australian Cattle Dog', 'Australian Shepherd', 'Basset Hound',\n",
       "       'Beagle', 'Belgian Malinois', 'Bernese Mountain Dog',\n",
       "       'Bichon Frise', 'Bloodhound', 'Border Collie', 'Boston Terrier',\n",
       "       'Boxer', 'Brittany', 'Bulldog', 'Cane Corso',\n",
       "       'Cavalier King Charles Spaniel', 'Chihuahua', 'Cocker Spaniel',\n",
       "       'Collie', 'Dachshund', 'Dalmatian', 'Doberman Pinscher',\n",
       "       'English Cocker Spaniel', 'English Springer Spaniel',\n",
       "       'French Bulldog', 'German Shepherd Dog',\n",
       "       'German Shorthaired Pointer', 'Golden Retriever', 'Great Dane',\n",
       "       'Havanese', 'Labrador Retriever', 'Maltese', 'Mastiff',\n",
       "       'Miniature American Shepherd', 'Miniature Schnauzer',\n",
       "       'Newfoundland', 'Pembroke Welsh Corgi', 'Pomeranian', 'Poodle',\n",
       "       'Portuguese Water Dog', 'Pug', 'Rhodesian Ridgeback', 'Rottweiler',\n",
       "       'Shetland Sheepdog', 'Shiba Inu', 'Shih Tzu', 'Siberian Husky',\n",
       "       'Vizsla', 'Weimaraner', 'West Highland White Terrier',\n",
       "       'Yorkshire Terrier'], dtype=object)"
      ]
     },
     "execution_count": 25,
     "metadata": {},
     "output_type": "execute_result"
    }
   ],
   "source": [
    "# Breeds DataFrame = Replace Breed: 'Poodle (Standard)' with 'Poodle' to match licensing data convention. \n",
    "# Update the breed_life_cost_df with breen names consistent with the licensing data\n",
    "top50breeds_df['Breed'].replace('Poodle (Standard)', 'Poodle', inplace=True)\n",
    "breed_life_cost_df['Dog breed'].replace('German Shepherd', 'German Shepherd Dog', inplace=True)\n",
    "breed_life_cost_df['Dog breed'].replace('Miniature American Shephard', 'Miniature American Shepherd', inplace=True)\n",
    "\n",
    "\n",
    "top50breeds_df['Breed'].unique()"
   ]
  },
  {
   "cell_type": "code",
   "execution_count": 26,
   "id": "eaafb88d-bd0e-4d9b-9e8a-c3ae5cdd840b",
   "metadata": {
    "tags": []
   },
   "outputs": [
    {
     "name": "stdout",
     "output_type": "stream",
     "text": [
      "<class 'pandas.core.frame.DataFrame'>\n",
      "RangeIndex: 277639 entries, 0 to 277638\n",
      "Data columns (total 2 columns):\n",
      " #   Column   Non-Null Count   Dtype \n",
      "---  ------   --------------   ----- \n",
      " 0   ZipCode  277639 non-null  object\n",
      " 1   Borough  277639 non-null  object\n",
      "dtypes: object(2)\n",
      "memory usage: 4.2+ MB\n"
     ]
    },
    {
     "data": {
      "text/plain": [
       "None"
      ]
     },
     "metadata": {},
     "output_type": "display_data"
    },
    {
     "name": "stdout",
     "output_type": "stream",
     "text": [
      "<class 'pandas.core.frame.DataFrame'>\n",
      "RangeIndex: 5 entries, 0 to 4\n",
      "Data columns (total 2 columns):\n",
      " #   Column           Non-Null Count  Dtype  \n",
      "---  ------           --------------  -----  \n",
      " 0   Borough          5 non-null      object \n",
      " 1   pop_per_dogpark  5 non-null      float64\n",
      "dtypes: float64(1), object(1)\n",
      "memory usage: 208.0+ bytes\n"
     ]
    },
    {
     "data": {
      "text/plain": [
       "None"
      ]
     },
     "metadata": {},
     "output_type": "display_data"
    },
    {
     "name": "stdout",
     "output_type": "stream",
     "text": [
      "<class 'pandas.core.frame.DataFrame'>\n",
      "RangeIndex: 5 entries, 0 to 4\n",
      "Data columns (total 5 columns):\n",
      " #   Column                    Non-Null Count  Dtype  \n",
      "---  ------                    --------------  -----  \n",
      " 0   Borough                   5 non-null      object \n",
      " 1   demo_total_pop            5 non-null      object \n",
      " 2   dem_median_age            5 non-null      float64\n",
      " 3   demo_housing_units        5 non-null      object \n",
      " 4   demo_avg_#_per_household  5 non-null      float64\n",
      "dtypes: float64(2), object(3)\n",
      "memory usage: 328.0+ bytes\n"
     ]
    },
    {
     "data": {
      "text/plain": [
       "None"
      ]
     },
     "metadata": {},
     "output_type": "display_data"
    },
    {
     "name": "stdout",
     "output_type": "stream",
     "text": [
      "<class 'pandas.core.frame.DataFrame'>\n",
      "RangeIndex: 98 entries, 0 to 97\n",
      "Data columns (total 2 columns):\n",
      " #   Column                               Non-Null Count  Dtype \n",
      "---  ------                               --------------  ----- \n",
      " 0   ZipCode                              98 non-null     string\n",
      " 1   cnt_of_dogfriendly_areas_by_zipcode  98 non-null     int64 \n",
      "dtypes: int64(1), string(1)\n",
      "memory usage: 1.7 KB\n"
     ]
    },
    {
     "data": {
      "text/plain": [
       "None"
      ]
     },
     "metadata": {},
     "output_type": "display_data"
    },
    {
     "name": "stdout",
     "output_type": "stream",
     "text": [
      "<class 'pandas.core.frame.DataFrame'>\n",
      "RangeIndex: 50 entries, 0 to 49\n",
      "Data columns (total 19 columns):\n",
      " #   Column                       Non-Null Count  Dtype  \n",
      "---  ------                       --------------  -----  \n",
      " 0   Breed                        50 non-null     object \n",
      " 1   description                  50 non-null     object \n",
      " 2   temperament                  50 non-null     object \n",
      " 3   grooming_frequency_value     50 non-null     float64\n",
      " 4   grooming_frequency_category  50 non-null     object \n",
      " 5   shedding_value               50 non-null     float64\n",
      " 6   shedding_category            50 non-null     object \n",
      " 7   energy_level_value           50 non-null     float64\n",
      " 8   energy_level_category        50 non-null     object \n",
      " 9   trainability_value           50 non-null     float64\n",
      " 10  trainability_category        50 non-null     object \n",
      " 11  demeanor_value               50 non-null     float64\n",
      " 12  demeanor_category            50 non-null     object \n",
      " 13  average_height               50 non-null     float64\n",
      " 14  average_expectancy           50 non-null     float64\n",
      " 15  average_weight               50 non-null     float64\n",
      " 16  size                         50 non-null     float64\n",
      " 17  size_cat                     50 non-null     object \n",
      " 18  image_link                   50 non-null     object \n",
      "dtypes: float64(9), object(10)\n",
      "memory usage: 7.5+ KB\n"
     ]
    },
    {
     "data": {
      "text/plain": [
       "None"
      ]
     },
     "metadata": {},
     "output_type": "display_data"
    },
    {
     "name": "stdout",
     "output_type": "stream",
     "text": [
      "<class 'pandas.core.frame.DataFrame'>\n",
      "RangeIndex: 50 entries, 0 to 49\n",
      "Data columns (total 5 columns):\n",
      " #   Column                  Non-Null Count  Dtype \n",
      "---  ------                  --------------  ----- \n",
      " 0   Unnamed: 0              50 non-null     int64 \n",
      " 1   Dog breed               50 non-null     object\n",
      " 2   category                50 non-null     object\n",
      " 3   LIFETIME COST, $        50 non-null     int64 \n",
      " 4   lifetime_cost_category  50 non-null     object\n",
      "dtypes: int64(2), object(3)\n",
      "memory usage: 2.1+ KB\n"
     ]
    },
    {
     "data": {
      "text/plain": [
       "None"
      ]
     },
     "metadata": {},
     "output_type": "display_data"
    }
   ],
   "source": [
    "# Display all the info for the DataFrames\n",
    "display(top50breeds_licensing_df[['ZipCode', 'Borough']].info())\n",
    "display(avg_pop_per_park_df.info())\n",
    "display(demo_summary_df.info())\n",
    "display(dogfriendly_by_zip_df.info())\n",
    "display(top50breeds_df.info())\n",
    "display(breed_life_cost_df.info())"
   ]
  },
  {
   "cell_type": "code",
   "execution_count": 27,
   "id": "a47c5ac9-5175-4538-8e62-a314329d1222",
   "metadata": {
    "tags": []
   },
   "outputs": [
    {
     "name": "stdout",
     "output_type": "stream",
     "text": [
      "<class 'pandas.core.frame.DataFrame'>\n",
      "RangeIndex: 98 entries, 0 to 97\n",
      "Data columns (total 2 columns):\n",
      " #   Column                               Non-Null Count  Dtype \n",
      "---  ------                               --------------  ----- \n",
      " 0   ZipCode                              98 non-null     string\n",
      " 1   cnt_of_dogfriendly_areas_by_zipcode  98 non-null     int64 \n",
      "dtypes: int64(1), string(1)\n",
      "memory usage: 1.7 KB\n"
     ]
    },
    {
     "data": {
      "text/plain": [
       "None"
      ]
     },
     "metadata": {},
     "output_type": "display_data"
    },
    {
     "name": "stdout",
     "output_type": "stream",
     "text": [
      "<class 'pandas.core.frame.DataFrame'>\n",
      "RangeIndex: 1538 entries, 0 to 1537\n",
      "Data columns (total 4 columns):\n",
      " #   Column                                        Non-Null Count  Dtype  \n",
      "---  ------                                        --------------  -----  \n",
      " 0   ZipCode                                       1538 non-null   string \n",
      " 1   Number of returns                             1538 non-null   int64  \n",
      " 2   Total income Amount (In thousand of dollars)  1538 non-null   int64  \n",
      " 3   Average total income                          1538 non-null   float64\n",
      "dtypes: float64(1), int64(2), string(1)\n",
      "memory usage: 48.2 KB\n"
     ]
    },
    {
     "data": {
      "text/plain": [
       "None"
      ]
     },
     "metadata": {},
     "output_type": "display_data"
    }
   ],
   "source": [
    "# Remove unnecessary cols from Dataframes\n",
    "avg_pop_per_park_df = avg_pop_per_park_df[['Borough', 'pop_per_dogpark']]\n",
    "demo_summary_df = demo_summary_df[['Borough', 'demo_total_pop', 'dem_median_age', 'demo_housing_units', 'demo_avg_#_per_household']]\n",
    "dogfriendly_by_zip_df = dogfriendly_by_zip_df[['ZipCode', 'cnt_of_dogfriendly_areas_by_zipcode']]\n",
    "\n",
    "# Recast dogfriendly_by_zip_df and nyc income df zipcode to string\n",
    "dogfriendly_by_zip_df = dogfriendly_by_zip_df.astype({'ZipCode':'string'})\n",
    "nyc_income_df = nyc_income_df.astype({'ZipCode':'string'})\n",
    "\n",
    "display(dogfriendly_by_zip_df.info())\n",
    "display(nyc_income_df.info())"
   ]
  },
  {
   "cell_type": "code",
   "execution_count": 34,
   "id": "bb9f1b34-808e-4620-bdd9-7143c1f55b37",
   "metadata": {
    "tags": []
   },
   "outputs": [
    {
     "data": {
      "text/html": [
       "<div>\n",
       "<style scoped>\n",
       "    .dataframe tbody tr th:only-of-type {\n",
       "        vertical-align: middle;\n",
       "    }\n",
       "\n",
       "    .dataframe tbody tr th {\n",
       "        vertical-align: top;\n",
       "    }\n",
       "\n",
       "    .dataframe thead th {\n",
       "        text-align: right;\n",
       "    }\n",
       "</style>\n",
       "<table border=\"1\" class=\"dataframe\">\n",
       "  <thead>\n",
       "    <tr style=\"text-align: right;\">\n",
       "      <th></th>\n",
       "      <th>Unnamed: 0_x</th>\n",
       "      <th>AnimalGender</th>\n",
       "      <th>AnimalBirthYear</th>\n",
       "      <th>BreedName</th>\n",
       "      <th>ZipCode</th>\n",
       "      <th>Borough</th>\n",
       "      <th>pop_per_dogpark</th>\n",
       "      <th>demo_total_pop</th>\n",
       "      <th>dem_median_age</th>\n",
       "      <th>demo_housing_units</th>\n",
       "      <th>...</th>\n",
       "      <th>average_expectancy</th>\n",
       "      <th>average_weight</th>\n",
       "      <th>size</th>\n",
       "      <th>size_cat</th>\n",
       "      <th>image_link</th>\n",
       "      <th>Unnamed: 0_y</th>\n",
       "      <th>Dog breed</th>\n",
       "      <th>category</th>\n",
       "      <th>LIFETIME COST, $</th>\n",
       "      <th>lifetime_cost_category</th>\n",
       "    </tr>\n",
       "  </thead>\n",
       "  <tbody>\n",
       "    <tr>\n",
       "      <th>0</th>\n",
       "      <td>1</td>\n",
       "      <td>M</td>\n",
       "      <td>2010</td>\n",
       "      <td>Boxer</td>\n",
       "      <td>10465</td>\n",
       "      <td>Bronx</td>\n",
       "      <td>47892.833333</td>\n",
       "      <td>1,436,785</td>\n",
       "      <td>33.3</td>\n",
       "      <td>522,401</td>\n",
       "      <td>...</td>\n",
       "      <td>11.0</td>\n",
       "      <td>21.545638</td>\n",
       "      <td>0.4</td>\n",
       "      <td>Small 9-35lb</td>\n",
       "      <td>https://www.akc.org/wp-content/uploads/2017/11...</td>\n",
       "      <td>15</td>\n",
       "      <td>Boxer</td>\n",
       "      <td>working</td>\n",
       "      <td>15746</td>\n",
       "      <td>Low</td>\n",
       "    </tr>\n",
       "    <tr>\n",
       "      <th>1</th>\n",
       "      <td>4</td>\n",
       "      <td>F</td>\n",
       "      <td>2009</td>\n",
       "      <td>Maltese</td>\n",
       "      <td>10028</td>\n",
       "      <td>Manhattan</td>\n",
       "      <td>48087.911765</td>\n",
       "      <td>1,634,989</td>\n",
       "      <td>36.7</td>\n",
       "      <td>866,644</td>\n",
       "      <td>...</td>\n",
       "      <td>13.5</td>\n",
       "      <td>3.175147</td>\n",
       "      <td>0.2</td>\n",
       "      <td>Toy &gt;9lb</td>\n",
       "      <td>https://www.akc.org/wp-content/uploads/2017/11...</td>\n",
       "      <td>34</td>\n",
       "      <td>Maltese</td>\n",
       "      <td>toy</td>\n",
       "      <td>19084</td>\n",
       "      <td>Medium</td>\n",
       "    </tr>\n",
       "  </tbody>\n",
       "</table>\n",
       "<p>2 rows × 39 columns</p>\n",
       "</div>"
      ],
      "text/plain": [
       "  Unnamed: 0_x AnimalGender AnimalBirthYear BreedName ZipCode    Borough  \\\n",
       "0            1            M            2010     Boxer   10465      Bronx   \n",
       "1            4            F            2009   Maltese   10028  Manhattan   \n",
       "\n",
       "   pop_per_dogpark demo_total_pop  dem_median_age demo_housing_units  ...  \\\n",
       "0     47892.833333      1,436,785            33.3            522,401  ...   \n",
       "1     48087.911765      1,634,989            36.7            866,644  ...   \n",
       "\n",
       "   average_expectancy  average_weight  size      size_cat  \\\n",
       "0                11.0       21.545638   0.4  Small 9-35lb   \n",
       "1                13.5        3.175147   0.2      Toy >9lb   \n",
       "\n",
       "                                          image_link Unnamed: 0_y Dog breed  \\\n",
       "0  https://www.akc.org/wp-content/uploads/2017/11...           15     Boxer   \n",
       "1  https://www.akc.org/wp-content/uploads/2017/11...           34   Maltese   \n",
       "\n",
       "  category  LIFETIME COST, $ lifetime_cost_category  \n",
       "0  working             15746                    Low  \n",
       "1      toy             19084                 Medium  \n",
       "\n",
       "[2 rows x 39 columns]"
      ]
     },
     "execution_count": 34,
     "metadata": {},
     "output_type": "execute_result"
    }
   ],
   "source": [
    "# Merge the DataFrames\n",
    "master_dog_df = top50breeds_licensing_df.merge(avg_pop_per_park_df, how='left', on='Borough')\n",
    "master_dog_df = master_dog_df.merge(demo_summary_df, how='left', on='Borough')\n",
    "master_dog_df = master_dog_df.merge(dogfriendly_by_zip_df, how='left', on='ZipCode')\n",
    "master_dog_df = master_dog_df.merge(nyc_income_df, how='left', on='ZipCode')\n",
    "master_dog_df = master_dog_df.merge(top50breeds_df, how='left', left_on='BreedName', right_on='Breed')\n",
    "master_dog_df = master_dog_df.merge(breed_life_cost_df, how='left', left_on='BreedName', right_on='Dog breed')\n",
    "\n",
    "master_dog_df.head(2)"
   ]
  },
  {
   "cell_type": "code",
   "execution_count": 35,
   "id": "c1523e47-0432-4561-b60c-2ba8236b482f",
   "metadata": {
    "tags": []
   },
   "outputs": [
    {
     "name": "stdout",
     "output_type": "stream",
     "text": [
      "<class 'pandas.core.frame.DataFrame'>\n",
      "RangeIndex: 277639 entries, 0 to 277638\n",
      "Data columns (total 39 columns):\n",
      " #   Column                                        Non-Null Count   Dtype  \n",
      "---  ------                                        --------------   -----  \n",
      " 0   Unnamed: 0_x                                  277639 non-null  object \n",
      " 1   AnimalGender                                  277639 non-null  object \n",
      " 2   AnimalBirthYear                               277639 non-null  object \n",
      " 3   BreedName                                     277639 non-null  object \n",
      " 4   ZipCode                                       277639 non-null  object \n",
      " 5   Borough                                       277639 non-null  object \n",
      " 6   pop_per_dogpark                               277639 non-null  float64\n",
      " 7   demo_total_pop                                277639 non-null  object \n",
      " 8   dem_median_age                                277639 non-null  float64\n",
      " 9   demo_housing_units                            277639 non-null  object \n",
      " 10  demo_avg_#_per_household                      277639 non-null  float64\n",
      " 11  cnt_of_dogfriendly_areas_by_zipcode           192433 non-null  float64\n",
      " 12  Number of returns                             275755 non-null  float64\n",
      " 13  Total income Amount (In thousand of dollars)  275755 non-null  float64\n",
      " 14  Average total income                          275755 non-null  float64\n",
      " 15  Breed                                         277639 non-null  object \n",
      " 16  description                                   277639 non-null  object \n",
      " 17  temperament                                   277639 non-null  object \n",
      " 18  grooming_frequency_value                      277639 non-null  float64\n",
      " 19  grooming_frequency_category                   277639 non-null  object \n",
      " 20  shedding_value                                277639 non-null  float64\n",
      " 21  shedding_category                             277639 non-null  object \n",
      " 22  energy_level_value                            277639 non-null  float64\n",
      " 23  energy_level_category                         277639 non-null  object \n",
      " 24  trainability_value                            277639 non-null  float64\n",
      " 25  trainability_category                         277639 non-null  object \n",
      " 26  demeanor_value                                277639 non-null  float64\n",
      " 27  demeanor_category                             277639 non-null  object \n",
      " 28  average_height                                277639 non-null  float64\n",
      " 29  average_expectancy                            277639 non-null  float64\n",
      " 30  average_weight                                277639 non-null  float64\n",
      " 31  size                                          277639 non-null  float64\n",
      " 32  size_cat                                      277639 non-null  object \n",
      " 33  image_link                                    277639 non-null  object \n",
      " 34  Unnamed: 0_y                                  277639 non-null  int64  \n",
      " 35  Dog breed                                     277639 non-null  object \n",
      " 36  category                                      277639 non-null  object \n",
      " 37  LIFETIME COST, $                              277639 non-null  int64  \n",
      " 38  lifetime_cost_category                        277639 non-null  object \n",
      "dtypes: float64(16), int64(2), object(21)\n",
      "memory usage: 82.6+ MB\n"
     ]
    }
   ],
   "source": [
    "master_dog_df.info()"
   ]
  },
  {
   "cell_type": "code",
   "execution_count": 36,
   "id": "d5a2db8c-da3b-4176-a936-71dbbb0c5a73",
   "metadata": {
    "tags": []
   },
   "outputs": [
    {
     "name": "stdout",
     "output_type": "stream",
     "text": [
      "<class 'pandas.core.series.Series'>\n",
      "RangeIndex: 277639 entries, 0 to 277638\n",
      "Series name: cnt_of_dogfriendly_areas_by_zipcode\n",
      "Non-Null Count   Dtype  \n",
      "--------------   -----  \n",
      "277639 non-null  float64\n",
      "dtypes: float64(1)\n",
      "memory usage: 2.1 MB\n"
     ]
    }
   ],
   "source": [
    "# Col: cnt_of_dogfriendly_areas_by_zipcode - replace Nulls with zero's \n",
    "# Drop unamed column\n",
    "master_dog_df['cnt_of_dogfriendly_areas_by_zipcode'] = master_dog_df['cnt_of_dogfriendly_areas_by_zipcode'].fillna(0)\n",
    "\n",
    "master_dog_df['cnt_of_dogfriendly_areas_by_zipcode'].info()"
   ]
  },
  {
   "cell_type": "code",
   "execution_count": 37,
   "id": "ae9aca7a-ac51-48de-9a74-a37550a73817",
   "metadata": {
    "tags": []
   },
   "outputs": [
    {
     "data": {
      "text/plain": [
       "Index(['Unnamed: 0_x', 'AnimalGender', 'AnimalBirthYear', 'BreedName',\n",
       "       'ZipCode', 'Borough', 'pop_per_dogpark', 'demo_total_pop',\n",
       "       'dem_median_age', 'demo_housing_units', 'demo_avg_#_per_household',\n",
       "       'cnt_of_dogfriendly_areas_by_zipcode', 'Number of returns',\n",
       "       'Total income Amount (In thousand of dollars)', 'Average total income',\n",
       "       'Breed', 'description', 'temperament', 'grooming_frequency_value',\n",
       "       'grooming_frequency_category', 'shedding_value', 'shedding_category',\n",
       "       'energy_level_value', 'energy_level_category', 'trainability_value',\n",
       "       'trainability_category', 'demeanor_value', 'demeanor_category',\n",
       "       'average_height', 'average_expectancy', 'average_weight', 'size',\n",
       "       'size_cat', 'image_link', 'Unnamed: 0_y', 'Dog breed', 'category',\n",
       "       'LIFETIME COST, $', 'lifetime_cost_category'],\n",
       "      dtype='object')"
      ]
     },
     "execution_count": 37,
     "metadata": {},
     "output_type": "execute_result"
    }
   ],
   "source": [
    "# List the Columns\n",
    "master_dog_df.columns"
   ]
  },
  {
   "cell_type": "code",
   "execution_count": 38,
   "id": "bc426054-bcf6-4317-b895-11d25e1063f5",
   "metadata": {
    "tags": []
   },
   "outputs": [],
   "source": [
    "# Cut(Unnamed, Total Income) and Rename columns\n",
    "master_dog_df = master_dog_df[['AnimalGender', 'AnimalBirthYear', 'ZipCode',\n",
    "       'Borough', 'pop_per_dogpark', 'demo_total_pop', 'dem_median_age',\n",
    "       'demo_housing_units', 'demo_avg_#_per_household',\n",
    "       'cnt_of_dogfriendly_areas_by_zipcode', 'Number of returns', 'Average total income',\n",
    "       'Breed', 'description', 'temperament', 'grooming_frequency_value',\n",
    "       'grooming_frequency_category', 'shedding_value', 'shedding_category',\n",
    "       'energy_level_value', 'energy_level_category', 'trainability_value',\n",
    "       'trainability_category', 'demeanor_value', 'demeanor_category',\n",
    "       'average_height', 'average_expectancy', 'average_weight', 'size',\n",
    "       'size_cat', 'image_link', 'lifetime_cost_category']]\n",
    "master_dog_df.columns = ['Gender', 'BirthYear', 'ZipCode',\n",
    "       'Borough', 'humans/park', 'boro_population', 'human_median_age',\n",
    "       'housing_units', 'humans/household',\n",
    "       'dfriendlyareas_by_zip', 'tax_return_count', 'avg_income',\n",
    "       'Breed', 'description', 'temperament', 'grooming_frequency_value',\n",
    "       'grooming_frequency_category', 'shedding_value', 'shedding_category',\n",
    "       'energy_level_value', 'energy_level_category', 'trainability_value',\n",
    "       'trainability_category', 'demeanor_value', 'demeanor_category',\n",
    "       'average_height', 'average_expectancy', 'average_weight', 'size',\n",
    "       'size_cat', 'image_link', 'lifetime_cost']"
   ]
  },
  {
   "cell_type": "code",
   "execution_count": 39,
   "id": "f86c8283-e29c-4be2-9adc-706c3dabbc77",
   "metadata": {
    "tags": []
   },
   "outputs": [
    {
     "data": {
      "text/html": [
       "<div>\n",
       "<style scoped>\n",
       "    .dataframe tbody tr th:only-of-type {\n",
       "        vertical-align: middle;\n",
       "    }\n",
       "\n",
       "    .dataframe tbody tr th {\n",
       "        vertical-align: top;\n",
       "    }\n",
       "\n",
       "    .dataframe thead th {\n",
       "        text-align: right;\n",
       "    }\n",
       "</style>\n",
       "<table border=\"1\" class=\"dataframe\">\n",
       "  <thead>\n",
       "    <tr style=\"text-align: right;\">\n",
       "      <th></th>\n",
       "      <th>Gender</th>\n",
       "      <th>BirthYear</th>\n",
       "      <th>ZipCode</th>\n",
       "      <th>Borough</th>\n",
       "      <th>humans/park</th>\n",
       "      <th>boro_population</th>\n",
       "      <th>human_median_age</th>\n",
       "      <th>housing_units</th>\n",
       "      <th>humans/household</th>\n",
       "      <th>dfriendlyareas_by_zip</th>\n",
       "      <th>...</th>\n",
       "      <th>trainability_category</th>\n",
       "      <th>demeanor_value</th>\n",
       "      <th>demeanor_category</th>\n",
       "      <th>average_height</th>\n",
       "      <th>average_expectancy</th>\n",
       "      <th>average_weight</th>\n",
       "      <th>size</th>\n",
       "      <th>size_cat</th>\n",
       "      <th>image_link</th>\n",
       "      <th>lifetime_cost</th>\n",
       "    </tr>\n",
       "  </thead>\n",
       "  <tbody>\n",
       "    <tr>\n",
       "      <th>0</th>\n",
       "      <td>M</td>\n",
       "      <td>2010</td>\n",
       "      <td>10465</td>\n",
       "      <td>Bronx</td>\n",
       "      <td>47892.833333</td>\n",
       "      <td>1,436,785</td>\n",
       "      <td>33.3</td>\n",
       "      <td>522,401</td>\n",
       "      <td>2.750349</td>\n",
       "      <td>3.0</td>\n",
       "      <td>...</td>\n",
       "      <td>Easy Training</td>\n",
       "      <td>1.0</td>\n",
       "      <td>Outgoing</td>\n",
       "      <td>59.055</td>\n",
       "      <td>11.0</td>\n",
       "      <td>21.545638</td>\n",
       "      <td>0.4</td>\n",
       "      <td>Small 9-35lb</td>\n",
       "      <td>https://www.akc.org/wp-content/uploads/2017/11...</td>\n",
       "      <td>Low</td>\n",
       "    </tr>\n",
       "    <tr>\n",
       "      <th>1</th>\n",
       "      <td>F</td>\n",
       "      <td>2009</td>\n",
       "      <td>10028</td>\n",
       "      <td>Manhattan</td>\n",
       "      <td>48087.911765</td>\n",
       "      <td>1,634,989</td>\n",
       "      <td>36.7</td>\n",
       "      <td>866,644</td>\n",
       "      <td>1.886575</td>\n",
       "      <td>1.0</td>\n",
       "      <td>...</td>\n",
       "      <td>Agreeable</td>\n",
       "      <td>1.0</td>\n",
       "      <td>Outgoing</td>\n",
       "      <td>20.320</td>\n",
       "      <td>13.5</td>\n",
       "      <td>3.175147</td>\n",
       "      <td>0.2</td>\n",
       "      <td>Toy &gt;9lb</td>\n",
       "      <td>https://www.akc.org/wp-content/uploads/2017/11...</td>\n",
       "      <td>Medium</td>\n",
       "    </tr>\n",
       "    <tr>\n",
       "      <th>2</th>\n",
       "      <td>F</td>\n",
       "      <td>2005</td>\n",
       "      <td>10003</td>\n",
       "      <td>Manhattan</td>\n",
       "      <td>48087.911765</td>\n",
       "      <td>1,634,989</td>\n",
       "      <td>36.7</td>\n",
       "      <td>866,644</td>\n",
       "      <td>1.886575</td>\n",
       "      <td>2.0</td>\n",
       "      <td>...</td>\n",
       "      <td>May be Stubborn</td>\n",
       "      <td>0.8</td>\n",
       "      <td>Friendly</td>\n",
       "      <td>19.050</td>\n",
       "      <td>13.0</td>\n",
       "      <td>3.175147</td>\n",
       "      <td>0.2</td>\n",
       "      <td>Toy &gt;9lb</td>\n",
       "      <td>https://www.akc.org/wp-content/uploads/2017/11...</td>\n",
       "      <td>Medium</td>\n",
       "    </tr>\n",
       "  </tbody>\n",
       "</table>\n",
       "<p>3 rows × 32 columns</p>\n",
       "</div>"
      ],
      "text/plain": [
       "  Gender BirthYear ZipCode    Borough   humans/park boro_population  \\\n",
       "0      M      2010   10465      Bronx  47892.833333       1,436,785   \n",
       "1      F      2009   10028  Manhattan  48087.911765       1,634,989   \n",
       "2      F      2005   10003  Manhattan  48087.911765       1,634,989   \n",
       "\n",
       "   human_median_age housing_units  humans/household  dfriendlyareas_by_zip  \\\n",
       "0              33.3       522,401          2.750349                    3.0   \n",
       "1              36.7       866,644          1.886575                    1.0   \n",
       "2              36.7       866,644          1.886575                    2.0   \n",
       "\n",
       "   ...  trainability_category  demeanor_value demeanor_category  \\\n",
       "0  ...          Easy Training             1.0          Outgoing   \n",
       "1  ...              Agreeable             1.0          Outgoing   \n",
       "2  ...        May be Stubborn             0.8          Friendly   \n",
       "\n",
       "  average_height average_expectancy  average_weight size      size_cat  \\\n",
       "0         59.055               11.0       21.545638  0.4  Small 9-35lb   \n",
       "1         20.320               13.5        3.175147  0.2      Toy >9lb   \n",
       "2         19.050               13.0        3.175147  0.2      Toy >9lb   \n",
       "\n",
       "                                          image_link  lifetime_cost  \n",
       "0  https://www.akc.org/wp-content/uploads/2017/11...            Low  \n",
       "1  https://www.akc.org/wp-content/uploads/2017/11...         Medium  \n",
       "2  https://www.akc.org/wp-content/uploads/2017/11...         Medium  \n",
       "\n",
       "[3 rows x 32 columns]"
      ]
     },
     "execution_count": 39,
     "metadata": {},
     "output_type": "execute_result"
    }
   ],
   "source": [
    "master_dog_df.head(3)"
   ]
  },
  {
   "cell_type": "code",
   "execution_count": 40,
   "id": "1b914da1-53e9-42da-818b-4161866e3c93",
   "metadata": {
    "tags": []
   },
   "outputs": [],
   "source": [
    "# Create a list of columns to drop\n",
    "drop_list = ['Gender', 'BirthYear', 'ZipCode', 'boro_population', 'humans/park', 'human_median_age', 'housing_units', 'tax_return_count', 'description', \n",
    "             'temperament', 'grooming_frequency_category', 'shedding_category', 'energy_level_category', 'trainability_category', 'demeanor_category', \n",
    "             'average_height', 'size', 'image_link']"
   ]
  },
  {
   "cell_type": "code",
   "execution_count": 41,
   "id": "8b151421-e281-48aa-8299-28fef11abef5",
   "metadata": {
    "tags": []
   },
   "outputs": [],
   "source": [
    "# Drop more columns, just run once \n",
    "master_dog_df = master_dog_df.drop(labels=drop_list, axis=1)"
   ]
  },
  {
   "cell_type": "code",
   "execution_count": 42,
   "id": "d08efe8b-c30e-44e9-8e59-6cdc1817d3f5",
   "metadata": {
    "tags": []
   },
   "outputs": [
    {
     "name": "stdout",
     "output_type": "stream",
     "text": [
      "<class 'pandas.core.frame.DataFrame'>\n",
      "RangeIndex: 277639 entries, 0 to 277638\n",
      "Data columns (total 14 columns):\n",
      " #   Column                    Non-Null Count   Dtype  \n",
      "---  ------                    --------------   -----  \n",
      " 0   Borough                   277639 non-null  object \n",
      " 1   humans/household          277639 non-null  float64\n",
      " 2   dfriendlyareas_by_zip     277639 non-null  float64\n",
      " 3   avg_income                275755 non-null  float64\n",
      " 4   Breed                     277639 non-null  object \n",
      " 5   grooming_frequency_value  277639 non-null  float64\n",
      " 6   shedding_value            277639 non-null  float64\n",
      " 7   energy_level_value        277639 non-null  float64\n",
      " 8   trainability_value        277639 non-null  float64\n",
      " 9   demeanor_value            277639 non-null  float64\n",
      " 10  average_expectancy        277639 non-null  float64\n",
      " 11  average_weight            277639 non-null  float64\n",
      " 12  size_cat                  277639 non-null  object \n",
      " 13  lifetime_cost             277639 non-null  object \n",
      "dtypes: float64(10), object(4)\n",
      "memory usage: 29.7+ MB\n"
     ]
    }
   ],
   "source": [
    "master_dog_df.info()"
   ]
  },
  {
   "cell_type": "code",
   "execution_count": 106,
   "id": "c8b532df-4fa6-4dda-8c29-417908529d78",
   "metadata": {
    "tags": []
   },
   "outputs": [
    {
     "name": "stdout",
     "output_type": "stream",
     "text": [
      "<class 'pandas.core.frame.DataFrame'>\n",
      "Index: 275755 entries, 0 to 277638\n",
      "Data columns (total 13 columns):\n",
      " #   Column                    Non-Null Count   Dtype  \n",
      "---  ------                    --------------   -----  \n",
      " 0   Borough                   275755 non-null  object \n",
      " 1   humans/household          275755 non-null  float64\n",
      " 2   dfriendlyareas_by_zip     275755 non-null  float64\n",
      " 3   avg_income                275755 non-null  float64\n",
      " 4   Breed                     275755 non-null  object \n",
      " 5   grooming_frequency_value  275755 non-null  float64\n",
      " 6   shedding_value            275755 non-null  float64\n",
      " 7   energy_level_value        275755 non-null  float64\n",
      " 8   trainability_value        275755 non-null  float64\n",
      " 9   demeanor_value            275755 non-null  float64\n",
      " 10  average_expectancy        275755 non-null  float64\n",
      " 11  average_weight            275755 non-null  float64\n",
      " 12  size_cat                  275755 non-null  object \n",
      "dtypes: float64(10), object(3)\n",
      "memory usage: 29.5+ MB\n"
     ]
    }
   ],
   "source": [
    "# Drop null rows\n",
    "master_dog_df.dropna(inplace=True)\n",
    "\n",
    "master_dog_df.info()"
   ]
  },
  {
   "cell_type": "code",
   "execution_count": 107,
   "id": "361c2b24-55a0-4c82-8ccf-665bf7005915",
   "metadata": {
    "tags": []
   },
   "outputs": [
    {
     "data": {
      "text/plain": [
       "Borough                       5\n",
       "humans/household              5\n",
       "dfriendlyareas_by_zip         5\n",
       "avg_income                  218\n",
       "Breed                        50\n",
       "grooming_frequency_value      5\n",
       "shedding_value                5\n",
       "energy_level_value            5\n",
       "trainability_value            5\n",
       "demeanor_value                4\n",
       "average_expectancy           15\n",
       "average_weight               40\n",
       "size_cat                      5\n",
       "dtype: int64"
      ]
     },
     "execution_count": 107,
     "metadata": {},
     "output_type": "execute_result"
    }
   ],
   "source": [
    "# Find unique values count by col\n",
    "master_dog_df.nunique()"
   ]
  },
  {
   "cell_type": "code",
   "execution_count": 108,
   "id": "ed2d0ff6-0b40-4e64-b4ad-b1c0fa43c77f",
   "metadata": {
    "tags": []
   },
   "outputs": [],
   "source": [
    "# Export master to csv\n",
    "master_dog_df.to_csv('doggy_master_merged.csv')"
   ]
  }
 ],
 "metadata": {
  "kernelspec": {
   "display_name": "Python 3 (ipykernel)",
   "language": "python",
   "name": "python3"
  },
  "language_info": {
   "codemirror_mode": {
    "name": "ipython",
    "version": 3
   },
   "file_extension": ".py",
   "mimetype": "text/x-python",
   "name": "python",
   "nbconvert_exporter": "python",
   "pygments_lexer": "ipython3",
   "version": "3.10.13"
  }
 },
 "nbformat": 4,
 "nbformat_minor": 5
}
